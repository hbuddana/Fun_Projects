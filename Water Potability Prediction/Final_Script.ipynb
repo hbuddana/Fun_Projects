{
  "cells": [
    {
      "cell_type": "markdown",
      "id": "c581993b",
      "metadata": {
        "papermill": {
          "duration": 0.050879,
          "end_time": "2022-02-12T16:56:36.172745",
          "exception": false,
          "start_time": "2022-02-12T16:56:36.121866",
          "status": "completed"
        },
        "tags": [],
        "id": "c581993b"
      },
      "source": [
        "# <center>Water Potability Prediction 💧</center>"
      ]
    },
    {
      "cell_type": "markdown",
      "id": "c54cf88d",
      "metadata": {
        "papermill": {
          "duration": 0.049075,
          "end_time": "2022-02-12T16:56:36.574591",
          "exception": false,
          "start_time": "2022-02-12T16:56:36.525516",
          "status": "completed"
        },
        "tags": [],
        "id": "c54cf88d"
      },
      "source": [
        "# Importing Essential Libraries, Metrics, Tools and Models"
      ]
    },
    {
      "cell_type": "code",
      "execution_count": null,
      "id": "dc368a87",
      "metadata": {
        "_cell_guid": "b1076dfc-b9ad-4769-8c92-a6c4dae69d19",
        "_uuid": "8f2839f25d086af736a60e9eeb907d3b93b6e0e5",
        "execution": {
          "iopub.execute_input": "2022-02-12T16:56:36.682128Z",
          "iopub.status.busy": "2022-02-12T16:56:36.681461Z",
          "iopub.status.idle": "2022-02-12T16:56:39.159897Z",
          "shell.execute_reply": "2022-02-12T16:56:39.158861Z",
          "shell.execute_reply.started": "2022-02-12T16:33:53.087814Z"
        },
        "papermill": {
          "duration": 2.536293,
          "end_time": "2022-02-12T16:56:39.160094",
          "exception": false,
          "start_time": "2022-02-12T16:56:36.623801",
          "status": "completed"
        },
        "tags": [],
        "id": "dc368a87"
      },
      "outputs": [],
      "source": [
        "#Data Handling & Data Viz.\n",
        "import numpy as np\n",
        "import pandas as pd\n",
        "import seaborn as sns\n",
        "import matplotlib.pyplot as plt\n",
        "import missingno as msno\n",
        "import plotly.graph_objects as go\n",
        "import warnings\n",
        "warnings.filterwarnings(\"ignore\")\n",
        "\n",
        "\n",
        "#Data Partition and Training\n",
        "from sklearn.model_selection import train_test_split, GridSearchCV\n",
        "from sklearn.preprocessing import StandardScaler\n",
        "from sklearn.metrics import accuracy_score, confusion_matrix, roc_curve, roc_auc_score\n",
        "\n",
        "\n",
        "#ML algorithms\n",
        "from sklearn.linear_model import LogisticRegression\n",
        "from sklearn.tree import DecisionTreeClassifier\n",
        "from sklearn.ensemble import RandomForestClassifier, BaggingClassifier\n",
        "from sklearn.svm import SVC\n",
        "from xgboost import XGBClassifier\n",
        "from lightgbm import LGBMClassifier\n",
        "from sklearn.naive_bayes import GaussianNB, BernoulliNB\n",
        "from sklearn.neighbors import KNeighborsClassifier"
      ]
    },
    {
      "cell_type": "markdown",
      "id": "d9ff9ca4",
      "metadata": {
        "papermill": {
          "duration": 0.049553,
          "end_time": "2022-02-12T16:56:39.259994",
          "exception": false,
          "start_time": "2022-02-12T16:56:39.210441",
          "status": "completed"
        },
        "tags": [],
        "id": "d9ff9ca4"
      },
      "source": [
        "# Loading the Data"
      ]
    },
    {
      "cell_type": "code",
      "execution_count": null,
      "id": "b3da1971",
      "metadata": {
        "execution": {
          "iopub.execute_input": "2022-02-12T16:56:39.363224Z",
          "iopub.status.busy": "2022-02-12T16:56:39.362606Z",
          "iopub.status.idle": "2022-02-12T16:56:39.398363Z",
          "shell.execute_reply": "2022-02-12T16:56:39.397658Z",
          "shell.execute_reply.started": "2022-02-12T16:33:53.098468Z"
        },
        "papermill": {
          "duration": 0.088461,
          "end_time": "2022-02-12T16:56:39.398527",
          "exception": false,
          "start_time": "2022-02-12T16:56:39.310066",
          "status": "completed"
        },
        "tags": [],
        "id": "b3da1971"
      },
      "outputs": [],
      "source": [
        "df = pd.read_csv(\"/content/water_potability.csv\")"
      ]
    },
    {
      "cell_type": "markdown",
      "id": "f08ef1ca",
      "metadata": {
        "papermill": {
          "duration": 0.050735,
          "end_time": "2022-02-12T16:56:39.500140",
          "exception": false,
          "start_time": "2022-02-12T16:56:39.449405",
          "status": "completed"
        },
        "tags": [],
        "id": "f08ef1ca"
      },
      "source": [
        "# Exploratory Data Analysis"
      ]
    },
    {
      "cell_type": "markdown",
      "id": "8fe0fd4e",
      "metadata": {
        "papermill": {
          "duration": 0.051386,
          "end_time": "2022-02-12T16:56:39.603464",
          "exception": false,
          "start_time": "2022-02-12T16:56:39.552078",
          "status": "completed"
        },
        "tags": [],
        "id": "8fe0fd4e"
      },
      "source": [
        "***Taking a look at the first 5 rows of the dataset.***"
      ]
    },
    {
      "cell_type": "code",
      "execution_count": null,
      "id": "7acaabf4",
      "metadata": {
        "execution": {
          "iopub.execute_input": "2022-02-12T16:56:39.712980Z",
          "iopub.status.busy": "2022-02-12T16:56:39.712336Z",
          "iopub.status.idle": "2022-02-12T16:56:39.730455Z",
          "shell.execute_reply": "2022-02-12T16:56:39.731106Z",
          "shell.execute_reply.started": "2022-02-12T16:33:53.129270Z"
        },
        "papermill": {
          "duration": 0.077232,
          "end_time": "2022-02-12T16:56:39.731310",
          "exception": false,
          "start_time": "2022-02-12T16:56:39.654078",
          "status": "completed"
        },
        "tags": [],
        "colab": {
          "base_uri": "https://localhost:8080/",
          "height": 206
        },
        "id": "7acaabf4",
        "outputId": "c915daf0-92eb-400f-f8ef-935940f2de8b"
      },
      "outputs": [
        {
          "output_type": "execute_result",
          "data": {
            "text/plain": [
              "         ph    Hardness        Solids  Chloramines     Sulfate  Conductivity  \\\n",
              "0       NaN  204.890455  20791.318981     7.300212  368.516441    564.308654   \n",
              "1  3.716080  129.422921  18630.057858     6.635246         NaN    592.885359   \n",
              "2  8.099124  224.236259  19909.541732     9.275884         NaN    418.606213   \n",
              "3  8.316766  214.373394  22018.417441     8.059332  356.886136    363.266516   \n",
              "4  9.092223  181.101509  17978.986339     6.546600  310.135738    398.410813   \n",
              "\n",
              "   Organic_carbon  Trihalomethanes  Turbidity  Potability  \n",
              "0       10.379783        86.990970   2.963135           0  \n",
              "1       15.180013        56.329076   4.500656           0  \n",
              "2       16.868637        66.420093   3.055934           0  \n",
              "3       18.436524       100.341674   4.628771           0  \n",
              "4       11.558279        31.997993   4.075075           0  "
            ],
            "text/html": [
              "\n",
              "  <div id=\"df-c32b0cea-8753-4428-975f-d303bf61df67\">\n",
              "    <div class=\"colab-df-container\">\n",
              "      <div>\n",
              "<style scoped>\n",
              "    .dataframe tbody tr th:only-of-type {\n",
              "        vertical-align: middle;\n",
              "    }\n",
              "\n",
              "    .dataframe tbody tr th {\n",
              "        vertical-align: top;\n",
              "    }\n",
              "\n",
              "    .dataframe thead th {\n",
              "        text-align: right;\n",
              "    }\n",
              "</style>\n",
              "<table border=\"1\" class=\"dataframe\">\n",
              "  <thead>\n",
              "    <tr style=\"text-align: right;\">\n",
              "      <th></th>\n",
              "      <th>ph</th>\n",
              "      <th>Hardness</th>\n",
              "      <th>Solids</th>\n",
              "      <th>Chloramines</th>\n",
              "      <th>Sulfate</th>\n",
              "      <th>Conductivity</th>\n",
              "      <th>Organic_carbon</th>\n",
              "      <th>Trihalomethanes</th>\n",
              "      <th>Turbidity</th>\n",
              "      <th>Potability</th>\n",
              "    </tr>\n",
              "  </thead>\n",
              "  <tbody>\n",
              "    <tr>\n",
              "      <th>0</th>\n",
              "      <td>NaN</td>\n",
              "      <td>204.890455</td>\n",
              "      <td>20791.318981</td>\n",
              "      <td>7.300212</td>\n",
              "      <td>368.516441</td>\n",
              "      <td>564.308654</td>\n",
              "      <td>10.379783</td>\n",
              "      <td>86.990970</td>\n",
              "      <td>2.963135</td>\n",
              "      <td>0</td>\n",
              "    </tr>\n",
              "    <tr>\n",
              "      <th>1</th>\n",
              "      <td>3.716080</td>\n",
              "      <td>129.422921</td>\n",
              "      <td>18630.057858</td>\n",
              "      <td>6.635246</td>\n",
              "      <td>NaN</td>\n",
              "      <td>592.885359</td>\n",
              "      <td>15.180013</td>\n",
              "      <td>56.329076</td>\n",
              "      <td>4.500656</td>\n",
              "      <td>0</td>\n",
              "    </tr>\n",
              "    <tr>\n",
              "      <th>2</th>\n",
              "      <td>8.099124</td>\n",
              "      <td>224.236259</td>\n",
              "      <td>19909.541732</td>\n",
              "      <td>9.275884</td>\n",
              "      <td>NaN</td>\n",
              "      <td>418.606213</td>\n",
              "      <td>16.868637</td>\n",
              "      <td>66.420093</td>\n",
              "      <td>3.055934</td>\n",
              "      <td>0</td>\n",
              "    </tr>\n",
              "    <tr>\n",
              "      <th>3</th>\n",
              "      <td>8.316766</td>\n",
              "      <td>214.373394</td>\n",
              "      <td>22018.417441</td>\n",
              "      <td>8.059332</td>\n",
              "      <td>356.886136</td>\n",
              "      <td>363.266516</td>\n",
              "      <td>18.436524</td>\n",
              "      <td>100.341674</td>\n",
              "      <td>4.628771</td>\n",
              "      <td>0</td>\n",
              "    </tr>\n",
              "    <tr>\n",
              "      <th>4</th>\n",
              "      <td>9.092223</td>\n",
              "      <td>181.101509</td>\n",
              "      <td>17978.986339</td>\n",
              "      <td>6.546600</td>\n",
              "      <td>310.135738</td>\n",
              "      <td>398.410813</td>\n",
              "      <td>11.558279</td>\n",
              "      <td>31.997993</td>\n",
              "      <td>4.075075</td>\n",
              "      <td>0</td>\n",
              "    </tr>\n",
              "  </tbody>\n",
              "</table>\n",
              "</div>\n",
              "      <button class=\"colab-df-convert\" onclick=\"convertToInteractive('df-c32b0cea-8753-4428-975f-d303bf61df67')\"\n",
              "              title=\"Convert this dataframe to an interactive table.\"\n",
              "              style=\"display:none;\">\n",
              "        \n",
              "  <svg xmlns=\"http://www.w3.org/2000/svg\" height=\"24px\"viewBox=\"0 0 24 24\"\n",
              "       width=\"24px\">\n",
              "    <path d=\"M0 0h24v24H0V0z\" fill=\"none\"/>\n",
              "    <path d=\"M18.56 5.44l.94 2.06.94-2.06 2.06-.94-2.06-.94-.94-2.06-.94 2.06-2.06.94zm-11 1L8.5 8.5l.94-2.06 2.06-.94-2.06-.94L8.5 2.5l-.94 2.06-2.06.94zm10 10l.94 2.06.94-2.06 2.06-.94-2.06-.94-.94-2.06-.94 2.06-2.06.94z\"/><path d=\"M17.41 7.96l-1.37-1.37c-.4-.4-.92-.59-1.43-.59-.52 0-1.04.2-1.43.59L10.3 9.45l-7.72 7.72c-.78.78-.78 2.05 0 2.83L4 21.41c.39.39.9.59 1.41.59.51 0 1.02-.2 1.41-.59l7.78-7.78 2.81-2.81c.8-.78.8-2.07 0-2.86zM5.41 20L4 18.59l7.72-7.72 1.47 1.35L5.41 20z\"/>\n",
              "  </svg>\n",
              "      </button>\n",
              "      \n",
              "  <style>\n",
              "    .colab-df-container {\n",
              "      display:flex;\n",
              "      flex-wrap:wrap;\n",
              "      gap: 12px;\n",
              "    }\n",
              "\n",
              "    .colab-df-convert {\n",
              "      background-color: #E8F0FE;\n",
              "      border: none;\n",
              "      border-radius: 50%;\n",
              "      cursor: pointer;\n",
              "      display: none;\n",
              "      fill: #1967D2;\n",
              "      height: 32px;\n",
              "      padding: 0 0 0 0;\n",
              "      width: 32px;\n",
              "    }\n",
              "\n",
              "    .colab-df-convert:hover {\n",
              "      background-color: #E2EBFA;\n",
              "      box-shadow: 0px 1px 2px rgba(60, 64, 67, 0.3), 0px 1px 3px 1px rgba(60, 64, 67, 0.15);\n",
              "      fill: #174EA6;\n",
              "    }\n",
              "\n",
              "    [theme=dark] .colab-df-convert {\n",
              "      background-color: #3B4455;\n",
              "      fill: #D2E3FC;\n",
              "    }\n",
              "\n",
              "    [theme=dark] .colab-df-convert:hover {\n",
              "      background-color: #434B5C;\n",
              "      box-shadow: 0px 1px 3px 1px rgba(0, 0, 0, 0.15);\n",
              "      filter: drop-shadow(0px 1px 2px rgba(0, 0, 0, 0.3));\n",
              "      fill: #FFFFFF;\n",
              "    }\n",
              "  </style>\n",
              "\n",
              "      <script>\n",
              "        const buttonEl =\n",
              "          document.querySelector('#df-c32b0cea-8753-4428-975f-d303bf61df67 button.colab-df-convert');\n",
              "        buttonEl.style.display =\n",
              "          google.colab.kernel.accessAllowed ? 'block' : 'none';\n",
              "\n",
              "        async function convertToInteractive(key) {\n",
              "          const element = document.querySelector('#df-c32b0cea-8753-4428-975f-d303bf61df67');\n",
              "          const dataTable =\n",
              "            await google.colab.kernel.invokeFunction('convertToInteractive',\n",
              "                                                     [key], {});\n",
              "          if (!dataTable) return;\n",
              "\n",
              "          const docLinkHtml = 'Like what you see? Visit the ' +\n",
              "            '<a target=\"_blank\" href=https://colab.research.google.com/notebooks/data_table.ipynb>data table notebook</a>'\n",
              "            + ' to learn more about interactive tables.';\n",
              "          element.innerHTML = '';\n",
              "          dataTable['output_type'] = 'display_data';\n",
              "          await google.colab.output.renderOutput(dataTable, element);\n",
              "          const docLink = document.createElement('div');\n",
              "          docLink.innerHTML = docLinkHtml;\n",
              "          element.appendChild(docLink);\n",
              "        }\n",
              "      </script>\n",
              "    </div>\n",
              "  </div>\n",
              "  "
            ]
          },
          "metadata": {},
          "execution_count": 94
        }
      ],
      "source": [
        "df.head()"
      ]
    },
    {
      "cell_type": "markdown",
      "id": "7a6e825d",
      "metadata": {
        "papermill": {
          "duration": 0.051888,
          "end_time": "2022-02-12T16:56:39.834757",
          "exception": false,
          "start_time": "2022-02-12T16:56:39.782869",
          "status": "completed"
        },
        "tags": [],
        "id": "7a6e825d"
      },
      "source": [
        "***Checking the dimensions of the dataset.***"
      ]
    },
    {
      "cell_type": "code",
      "execution_count": null,
      "id": "5009ec54",
      "metadata": {
        "execution": {
          "iopub.execute_input": "2022-02-12T16:56:39.940452Z",
          "iopub.status.busy": "2022-02-12T16:56:39.939801Z",
          "iopub.status.idle": "2022-02-12T16:56:39.944627Z",
          "shell.execute_reply": "2022-02-12T16:56:39.945226Z",
          "shell.execute_reply.started": "2022-02-12T16:33:53.146593Z"
        },
        "papermill": {
          "duration": 0.059329,
          "end_time": "2022-02-12T16:56:39.945436",
          "exception": false,
          "start_time": "2022-02-12T16:56:39.886107",
          "status": "completed"
        },
        "tags": [],
        "colab": {
          "base_uri": "https://localhost:8080/"
        },
        "id": "5009ec54",
        "outputId": "e13bae3b-8365-4d4d-9a7a-508f12ab9ca8"
      },
      "outputs": [
        {
          "output_type": "execute_result",
          "data": {
            "text/plain": [
              "(3276, 10)"
            ]
          },
          "metadata": {},
          "execution_count": 95
        }
      ],
      "source": [
        "df.shape"
      ]
    },
    {
      "cell_type": "markdown",
      "id": "973fa0ef",
      "metadata": {
        "papermill": {
          "duration": 0.053233,
          "end_time": "2022-02-12T16:56:40.050639",
          "exception": false,
          "start_time": "2022-02-12T16:56:39.997406",
          "status": "completed"
        },
        "tags": [],
        "id": "973fa0ef"
      },
      "source": [
        "***Learning the dtypes of columns' and how many non-null values there are in those columns.***"
      ]
    },
    {
      "cell_type": "code",
      "execution_count": null,
      "id": "d1b4cedb",
      "metadata": {
        "execution": {
          "iopub.execute_input": "2022-02-12T16:56:40.162486Z",
          "iopub.status.busy": "2022-02-12T16:56:40.161499Z",
          "iopub.status.idle": "2022-02-12T16:56:40.182928Z",
          "shell.execute_reply": "2022-02-12T16:56:40.183434Z",
          "shell.execute_reply.started": "2022-02-12T16:33:53.161939Z"
        },
        "papermill": {
          "duration": 0.081142,
          "end_time": "2022-02-12T16:56:40.183642",
          "exception": false,
          "start_time": "2022-02-12T16:56:40.102500",
          "status": "completed"
        },
        "tags": [],
        "colab": {
          "base_uri": "https://localhost:8080/"
        },
        "id": "d1b4cedb",
        "outputId": "5dd1df08-62e1-499b-9015-cd117428ab4e"
      },
      "outputs": [
        {
          "output_type": "stream",
          "name": "stdout",
          "text": [
            "<class 'pandas.core.frame.DataFrame'>\n",
            "RangeIndex: 3276 entries, 0 to 3275\n",
            "Data columns (total 10 columns):\n",
            " #   Column           Non-Null Count  Dtype  \n",
            "---  ------           --------------  -----  \n",
            " 0   ph               2785 non-null   float64\n",
            " 1   Hardness         3276 non-null   float64\n",
            " 2   Solids           3276 non-null   float64\n",
            " 3   Chloramines      3276 non-null   float64\n",
            " 4   Sulfate          2495 non-null   float64\n",
            " 5   Conductivity     3276 non-null   float64\n",
            " 6   Organic_carbon   3276 non-null   float64\n",
            " 7   Trihalomethanes  3114 non-null   float64\n",
            " 8   Turbidity        3276 non-null   float64\n",
            " 9   Potability       3276 non-null   int64  \n",
            "dtypes: float64(9), int64(1)\n",
            "memory usage: 256.1 KB\n"
          ]
        }
      ],
      "source": [
        "df.info()"
      ]
    },
    {
      "cell_type": "markdown",
      "id": "f25fd7c4",
      "metadata": {
        "papermill": {
          "duration": 0.051491,
          "end_time": "2022-02-12T16:56:40.286649",
          "exception": false,
          "start_time": "2022-02-12T16:56:40.235158",
          "status": "completed"
        },
        "tags": [],
        "id": "f25fd7c4"
      },
      "source": [
        "***Getting the statistical summary of dataset.***"
      ]
    },
    {
      "cell_type": "code",
      "execution_count": null,
      "id": "f4188e26",
      "metadata": {
        "execution": {
          "iopub.execute_input": "2022-02-12T16:56:40.398269Z",
          "iopub.status.busy": "2022-02-12T16:56:40.397626Z",
          "iopub.status.idle": "2022-02-12T16:56:40.435271Z",
          "shell.execute_reply": "2022-02-12T16:56:40.434750Z",
          "shell.execute_reply.started": "2022-02-12T16:33:53.185646Z"
        },
        "papermill": {
          "duration": 0.097108,
          "end_time": "2022-02-12T16:56:40.435416",
          "exception": false,
          "start_time": "2022-02-12T16:56:40.338308",
          "status": "completed"
        },
        "tags": [],
        "colab": {
          "base_uri": "https://localhost:8080/",
          "height": 363
        },
        "id": "f4188e26",
        "outputId": "c3af6b48-9373-4daa-fb6e-cf1f34147817"
      },
      "outputs": [
        {
          "output_type": "execute_result",
          "data": {
            "text/plain": [
              "                  count          mean          std         min           25%  \\\n",
              "ph               2785.0      7.080795     1.594320    0.000000      6.093092   \n",
              "Hardness         3276.0    196.369496    32.879761   47.432000    176.850538   \n",
              "Solids           3276.0  22014.092526  8768.570828  320.942611  15666.690297   \n",
              "Chloramines      3276.0      7.122277     1.583085    0.352000      6.127421   \n",
              "Sulfate          2495.0    333.775777    41.416840  129.000000    307.699498   \n",
              "Conductivity     3276.0    426.205111    80.824064  181.483754    365.734414   \n",
              "Organic_carbon   3276.0     14.284970     3.308162    2.200000     12.065801   \n",
              "Trihalomethanes  3114.0     66.396293    16.175008    0.738000     55.844536   \n",
              "Turbidity        3276.0      3.966786     0.780382    1.450000      3.439711   \n",
              "Potability       3276.0      0.390110     0.487849    0.000000      0.000000   \n",
              "\n",
              "                          50%           75%           max  \n",
              "ph                   7.036752      8.062066     14.000000  \n",
              "Hardness           196.967627    216.667456    323.124000  \n",
              "Solids           20927.833607  27332.762127  61227.196008  \n",
              "Chloramines          7.130299      8.114887     13.127000  \n",
              "Sulfate            333.073546    359.950170    481.030642  \n",
              "Conductivity       421.884968    481.792304    753.342620  \n",
              "Organic_carbon      14.218338     16.557652     28.300000  \n",
              "Trihalomethanes     66.622485     77.337473    124.000000  \n",
              "Turbidity            3.955028      4.500320      6.739000  \n",
              "Potability           0.000000      1.000000      1.000000  "
            ],
            "text/html": [
              "\n",
              "  <div id=\"df-7a22c2c6-6ee0-43d0-b577-3b2961b6b286\">\n",
              "    <div class=\"colab-df-container\">\n",
              "      <div>\n",
              "<style scoped>\n",
              "    .dataframe tbody tr th:only-of-type {\n",
              "        vertical-align: middle;\n",
              "    }\n",
              "\n",
              "    .dataframe tbody tr th {\n",
              "        vertical-align: top;\n",
              "    }\n",
              "\n",
              "    .dataframe thead th {\n",
              "        text-align: right;\n",
              "    }\n",
              "</style>\n",
              "<table border=\"1\" class=\"dataframe\">\n",
              "  <thead>\n",
              "    <tr style=\"text-align: right;\">\n",
              "      <th></th>\n",
              "      <th>count</th>\n",
              "      <th>mean</th>\n",
              "      <th>std</th>\n",
              "      <th>min</th>\n",
              "      <th>25%</th>\n",
              "      <th>50%</th>\n",
              "      <th>75%</th>\n",
              "      <th>max</th>\n",
              "    </tr>\n",
              "  </thead>\n",
              "  <tbody>\n",
              "    <tr>\n",
              "      <th>ph</th>\n",
              "      <td>2785.0</td>\n",
              "      <td>7.080795</td>\n",
              "      <td>1.594320</td>\n",
              "      <td>0.000000</td>\n",
              "      <td>6.093092</td>\n",
              "      <td>7.036752</td>\n",
              "      <td>8.062066</td>\n",
              "      <td>14.000000</td>\n",
              "    </tr>\n",
              "    <tr>\n",
              "      <th>Hardness</th>\n",
              "      <td>3276.0</td>\n",
              "      <td>196.369496</td>\n",
              "      <td>32.879761</td>\n",
              "      <td>47.432000</td>\n",
              "      <td>176.850538</td>\n",
              "      <td>196.967627</td>\n",
              "      <td>216.667456</td>\n",
              "      <td>323.124000</td>\n",
              "    </tr>\n",
              "    <tr>\n",
              "      <th>Solids</th>\n",
              "      <td>3276.0</td>\n",
              "      <td>22014.092526</td>\n",
              "      <td>8768.570828</td>\n",
              "      <td>320.942611</td>\n",
              "      <td>15666.690297</td>\n",
              "      <td>20927.833607</td>\n",
              "      <td>27332.762127</td>\n",
              "      <td>61227.196008</td>\n",
              "    </tr>\n",
              "    <tr>\n",
              "      <th>Chloramines</th>\n",
              "      <td>3276.0</td>\n",
              "      <td>7.122277</td>\n",
              "      <td>1.583085</td>\n",
              "      <td>0.352000</td>\n",
              "      <td>6.127421</td>\n",
              "      <td>7.130299</td>\n",
              "      <td>8.114887</td>\n",
              "      <td>13.127000</td>\n",
              "    </tr>\n",
              "    <tr>\n",
              "      <th>Sulfate</th>\n",
              "      <td>2495.0</td>\n",
              "      <td>333.775777</td>\n",
              "      <td>41.416840</td>\n",
              "      <td>129.000000</td>\n",
              "      <td>307.699498</td>\n",
              "      <td>333.073546</td>\n",
              "      <td>359.950170</td>\n",
              "      <td>481.030642</td>\n",
              "    </tr>\n",
              "    <tr>\n",
              "      <th>Conductivity</th>\n",
              "      <td>3276.0</td>\n",
              "      <td>426.205111</td>\n",
              "      <td>80.824064</td>\n",
              "      <td>181.483754</td>\n",
              "      <td>365.734414</td>\n",
              "      <td>421.884968</td>\n",
              "      <td>481.792304</td>\n",
              "      <td>753.342620</td>\n",
              "    </tr>\n",
              "    <tr>\n",
              "      <th>Organic_carbon</th>\n",
              "      <td>3276.0</td>\n",
              "      <td>14.284970</td>\n",
              "      <td>3.308162</td>\n",
              "      <td>2.200000</td>\n",
              "      <td>12.065801</td>\n",
              "      <td>14.218338</td>\n",
              "      <td>16.557652</td>\n",
              "      <td>28.300000</td>\n",
              "    </tr>\n",
              "    <tr>\n",
              "      <th>Trihalomethanes</th>\n",
              "      <td>3114.0</td>\n",
              "      <td>66.396293</td>\n",
              "      <td>16.175008</td>\n",
              "      <td>0.738000</td>\n",
              "      <td>55.844536</td>\n",
              "      <td>66.622485</td>\n",
              "      <td>77.337473</td>\n",
              "      <td>124.000000</td>\n",
              "    </tr>\n",
              "    <tr>\n",
              "      <th>Turbidity</th>\n",
              "      <td>3276.0</td>\n",
              "      <td>3.966786</td>\n",
              "      <td>0.780382</td>\n",
              "      <td>1.450000</td>\n",
              "      <td>3.439711</td>\n",
              "      <td>3.955028</td>\n",
              "      <td>4.500320</td>\n",
              "      <td>6.739000</td>\n",
              "    </tr>\n",
              "    <tr>\n",
              "      <th>Potability</th>\n",
              "      <td>3276.0</td>\n",
              "      <td>0.390110</td>\n",
              "      <td>0.487849</td>\n",
              "      <td>0.000000</td>\n",
              "      <td>0.000000</td>\n",
              "      <td>0.000000</td>\n",
              "      <td>1.000000</td>\n",
              "      <td>1.000000</td>\n",
              "    </tr>\n",
              "  </tbody>\n",
              "</table>\n",
              "</div>\n",
              "      <button class=\"colab-df-convert\" onclick=\"convertToInteractive('df-7a22c2c6-6ee0-43d0-b577-3b2961b6b286')\"\n",
              "              title=\"Convert this dataframe to an interactive table.\"\n",
              "              style=\"display:none;\">\n",
              "        \n",
              "  <svg xmlns=\"http://www.w3.org/2000/svg\" height=\"24px\"viewBox=\"0 0 24 24\"\n",
              "       width=\"24px\">\n",
              "    <path d=\"M0 0h24v24H0V0z\" fill=\"none\"/>\n",
              "    <path d=\"M18.56 5.44l.94 2.06.94-2.06 2.06-.94-2.06-.94-.94-2.06-.94 2.06-2.06.94zm-11 1L8.5 8.5l.94-2.06 2.06-.94-2.06-.94L8.5 2.5l-.94 2.06-2.06.94zm10 10l.94 2.06.94-2.06 2.06-.94-2.06-.94-.94-2.06-.94 2.06-2.06.94z\"/><path d=\"M17.41 7.96l-1.37-1.37c-.4-.4-.92-.59-1.43-.59-.52 0-1.04.2-1.43.59L10.3 9.45l-7.72 7.72c-.78.78-.78 2.05 0 2.83L4 21.41c.39.39.9.59 1.41.59.51 0 1.02-.2 1.41-.59l7.78-7.78 2.81-2.81c.8-.78.8-2.07 0-2.86zM5.41 20L4 18.59l7.72-7.72 1.47 1.35L5.41 20z\"/>\n",
              "  </svg>\n",
              "      </button>\n",
              "      \n",
              "  <style>\n",
              "    .colab-df-container {\n",
              "      display:flex;\n",
              "      flex-wrap:wrap;\n",
              "      gap: 12px;\n",
              "    }\n",
              "\n",
              "    .colab-df-convert {\n",
              "      background-color: #E8F0FE;\n",
              "      border: none;\n",
              "      border-radius: 50%;\n",
              "      cursor: pointer;\n",
              "      display: none;\n",
              "      fill: #1967D2;\n",
              "      height: 32px;\n",
              "      padding: 0 0 0 0;\n",
              "      width: 32px;\n",
              "    }\n",
              "\n",
              "    .colab-df-convert:hover {\n",
              "      background-color: #E2EBFA;\n",
              "      box-shadow: 0px 1px 2px rgba(60, 64, 67, 0.3), 0px 1px 3px 1px rgba(60, 64, 67, 0.15);\n",
              "      fill: #174EA6;\n",
              "    }\n",
              "\n",
              "    [theme=dark] .colab-df-convert {\n",
              "      background-color: #3B4455;\n",
              "      fill: #D2E3FC;\n",
              "    }\n",
              "\n",
              "    [theme=dark] .colab-df-convert:hover {\n",
              "      background-color: #434B5C;\n",
              "      box-shadow: 0px 1px 3px 1px rgba(0, 0, 0, 0.15);\n",
              "      filter: drop-shadow(0px 1px 2px rgba(0, 0, 0, 0.3));\n",
              "      fill: #FFFFFF;\n",
              "    }\n",
              "  </style>\n",
              "\n",
              "      <script>\n",
              "        const buttonEl =\n",
              "          document.querySelector('#df-7a22c2c6-6ee0-43d0-b577-3b2961b6b286 button.colab-df-convert');\n",
              "        buttonEl.style.display =\n",
              "          google.colab.kernel.accessAllowed ? 'block' : 'none';\n",
              "\n",
              "        async function convertToInteractive(key) {\n",
              "          const element = document.querySelector('#df-7a22c2c6-6ee0-43d0-b577-3b2961b6b286');\n",
              "          const dataTable =\n",
              "            await google.colab.kernel.invokeFunction('convertToInteractive',\n",
              "                                                     [key], {});\n",
              "          if (!dataTable) return;\n",
              "\n",
              "          const docLinkHtml = 'Like what you see? Visit the ' +\n",
              "            '<a target=\"_blank\" href=https://colab.research.google.com/notebooks/data_table.ipynb>data table notebook</a>'\n",
              "            + ' to learn more about interactive tables.';\n",
              "          element.innerHTML = '';\n",
              "          dataTable['output_type'] = 'display_data';\n",
              "          await google.colab.output.renderOutput(dataTable, element);\n",
              "          const docLink = document.createElement('div');\n",
              "          docLink.innerHTML = docLinkHtml;\n",
              "          element.appendChild(docLink);\n",
              "        }\n",
              "      </script>\n",
              "    </div>\n",
              "  </div>\n",
              "  "
            ]
          },
          "metadata": {},
          "execution_count": 97
        }
      ],
      "source": [
        "df.describe().T"
      ]
    },
    {
      "cell_type": "markdown",
      "id": "105719fb",
      "metadata": {
        "papermill": {
          "duration": 0.053208,
          "end_time": "2022-02-12T16:56:40.540347",
          "exception": false,
          "start_time": "2022-02-12T16:56:40.487139",
          "status": "completed"
        },
        "tags": [],
        "id": "105719fb"
      },
      "source": [
        "# Handling Missing Values and Duplicates"
      ]
    },
    {
      "cell_type": "markdown",
      "id": "23a4c564",
      "metadata": {
        "papermill": {
          "duration": 0.051981,
          "end_time": "2022-02-12T16:56:40.644438",
          "exception": false,
          "start_time": "2022-02-12T16:56:40.592457",
          "status": "completed"
        },
        "tags": [],
        "id": "23a4c564"
      },
      "source": [
        "***As we can see, there are missing values in columns \"ph\", \"Sulfate\" and \"Trihalomethanes\".***"
      ]
    },
    {
      "cell_type": "code",
      "execution_count": null,
      "id": "c7ccecc3",
      "metadata": {
        "execution": {
          "iopub.execute_input": "2022-02-12T16:56:40.753819Z",
          "iopub.status.busy": "2022-02-12T16:56:40.753181Z",
          "iopub.status.idle": "2022-02-12T16:56:40.759187Z",
          "shell.execute_reply": "2022-02-12T16:56:40.759703Z",
          "shell.execute_reply.started": "2022-02-12T16:33:53.239438Z"
        },
        "papermill": {
          "duration": 0.06342,
          "end_time": "2022-02-12T16:56:40.759871",
          "exception": false,
          "start_time": "2022-02-12T16:56:40.696451",
          "status": "completed"
        },
        "tags": [],
        "colab": {
          "base_uri": "https://localhost:8080/"
        },
        "id": "c7ccecc3",
        "outputId": "e59ed5da-5625-4772-d424-48f95ec18ab1"
      },
      "outputs": [
        {
          "output_type": "execute_result",
          "data": {
            "text/plain": [
              "ph                 491\n",
              "Hardness             0\n",
              "Solids               0\n",
              "Chloramines          0\n",
              "Sulfate            781\n",
              "Conductivity         0\n",
              "Organic_carbon       0\n",
              "Trihalomethanes    162\n",
              "Turbidity            0\n",
              "Potability           0\n",
              "dtype: int64"
            ]
          },
          "metadata": {},
          "execution_count": 98
        }
      ],
      "source": [
        "df.isna().sum()"
      ]
    },
    {
      "cell_type": "code",
      "source": [
        "def isnull_prop(df):\n",
        "    total_rows = df.shape[0]\n",
        "    missing_val_dict = {}\n",
        "    for col in df.columns:\n",
        "        missing_val_dict[col] = [df[col].isnull().sum(), (df[col].isnull().sum() / total_rows)]\n",
        "    return missing_val_dict\n",
        "\n",
        "# Apply the missing value method\n",
        "null_dict = isnull_prop(df)\n",
        "print(null_dict.items())"
      ],
      "metadata": {
        "id": "WFtA0V9ZPlPg",
        "colab": {
          "base_uri": "https://localhost:8080/"
        },
        "outputId": "1717acf7-ef9e-4812-81aa-ecdd99889d3f"
      },
      "id": "WFtA0V9ZPlPg",
      "execution_count": null,
      "outputs": [
        {
          "output_type": "stream",
          "name": "stdout",
          "text": [
            "dict_items([('ph', [491, 0.14987789987789987]), ('Hardness', [0, 0.0]), ('Solids', [0, 0.0]), ('Chloramines', [0, 0.0]), ('Sulfate', [781, 0.23840048840048841]), ('Conductivity', [0, 0.0]), ('Organic_carbon', [0, 0.0]), ('Trihalomethanes', [162, 0.04945054945054945]), ('Turbidity', [0, 0.0]), ('Potability', [0, 0.0])])\n"
          ]
        }
      ]
    },
    {
      "cell_type": "code",
      "source": [
        "# Create a dataframe of the missing value information\n",
        "df_missing = pd.DataFrame.from_dict(null_dict, orient=\"index\", columns=['missing', 'miss_percent'])\n",
        "df_missing"
      ],
      "metadata": {
        "colab": {
          "base_uri": "https://localhost:8080/",
          "height": 363
        },
        "id": "M_O7AeWad3VF",
        "outputId": "cdc2e1a9-937b-4d56-a81f-4b42c2c9b423"
      },
      "id": "M_O7AeWad3VF",
      "execution_count": null,
      "outputs": [
        {
          "output_type": "execute_result",
          "data": {
            "text/plain": [
              "                 missing  miss_percent\n",
              "ph                   491      0.149878\n",
              "Hardness               0      0.000000\n",
              "Solids                 0      0.000000\n",
              "Chloramines            0      0.000000\n",
              "Sulfate              781      0.238400\n",
              "Conductivity           0      0.000000\n",
              "Organic_carbon         0      0.000000\n",
              "Trihalomethanes      162      0.049451\n",
              "Turbidity              0      0.000000\n",
              "Potability             0      0.000000"
            ],
            "text/html": [
              "\n",
              "  <div id=\"df-ed7e70c1-cc7b-419a-a402-e567a14dd54c\">\n",
              "    <div class=\"colab-df-container\">\n",
              "      <div>\n",
              "<style scoped>\n",
              "    .dataframe tbody tr th:only-of-type {\n",
              "        vertical-align: middle;\n",
              "    }\n",
              "\n",
              "    .dataframe tbody tr th {\n",
              "        vertical-align: top;\n",
              "    }\n",
              "\n",
              "    .dataframe thead th {\n",
              "        text-align: right;\n",
              "    }\n",
              "</style>\n",
              "<table border=\"1\" class=\"dataframe\">\n",
              "  <thead>\n",
              "    <tr style=\"text-align: right;\">\n",
              "      <th></th>\n",
              "      <th>missing</th>\n",
              "      <th>miss_percent</th>\n",
              "    </tr>\n",
              "  </thead>\n",
              "  <tbody>\n",
              "    <tr>\n",
              "      <th>ph</th>\n",
              "      <td>491</td>\n",
              "      <td>0.149878</td>\n",
              "    </tr>\n",
              "    <tr>\n",
              "      <th>Hardness</th>\n",
              "      <td>0</td>\n",
              "      <td>0.000000</td>\n",
              "    </tr>\n",
              "    <tr>\n",
              "      <th>Solids</th>\n",
              "      <td>0</td>\n",
              "      <td>0.000000</td>\n",
              "    </tr>\n",
              "    <tr>\n",
              "      <th>Chloramines</th>\n",
              "      <td>0</td>\n",
              "      <td>0.000000</td>\n",
              "    </tr>\n",
              "    <tr>\n",
              "      <th>Sulfate</th>\n",
              "      <td>781</td>\n",
              "      <td>0.238400</td>\n",
              "    </tr>\n",
              "    <tr>\n",
              "      <th>Conductivity</th>\n",
              "      <td>0</td>\n",
              "      <td>0.000000</td>\n",
              "    </tr>\n",
              "    <tr>\n",
              "      <th>Organic_carbon</th>\n",
              "      <td>0</td>\n",
              "      <td>0.000000</td>\n",
              "    </tr>\n",
              "    <tr>\n",
              "      <th>Trihalomethanes</th>\n",
              "      <td>162</td>\n",
              "      <td>0.049451</td>\n",
              "    </tr>\n",
              "    <tr>\n",
              "      <th>Turbidity</th>\n",
              "      <td>0</td>\n",
              "      <td>0.000000</td>\n",
              "    </tr>\n",
              "    <tr>\n",
              "      <th>Potability</th>\n",
              "      <td>0</td>\n",
              "      <td>0.000000</td>\n",
              "    </tr>\n",
              "  </tbody>\n",
              "</table>\n",
              "</div>\n",
              "      <button class=\"colab-df-convert\" onclick=\"convertToInteractive('df-ed7e70c1-cc7b-419a-a402-e567a14dd54c')\"\n",
              "              title=\"Convert this dataframe to an interactive table.\"\n",
              "              style=\"display:none;\">\n",
              "        \n",
              "  <svg xmlns=\"http://www.w3.org/2000/svg\" height=\"24px\"viewBox=\"0 0 24 24\"\n",
              "       width=\"24px\">\n",
              "    <path d=\"M0 0h24v24H0V0z\" fill=\"none\"/>\n",
              "    <path d=\"M18.56 5.44l.94 2.06.94-2.06 2.06-.94-2.06-.94-.94-2.06-.94 2.06-2.06.94zm-11 1L8.5 8.5l.94-2.06 2.06-.94-2.06-.94L8.5 2.5l-.94 2.06-2.06.94zm10 10l.94 2.06.94-2.06 2.06-.94-2.06-.94-.94-2.06-.94 2.06-2.06.94z\"/><path d=\"M17.41 7.96l-1.37-1.37c-.4-.4-.92-.59-1.43-.59-.52 0-1.04.2-1.43.59L10.3 9.45l-7.72 7.72c-.78.78-.78 2.05 0 2.83L4 21.41c.39.39.9.59 1.41.59.51 0 1.02-.2 1.41-.59l7.78-7.78 2.81-2.81c.8-.78.8-2.07 0-2.86zM5.41 20L4 18.59l7.72-7.72 1.47 1.35L5.41 20z\"/>\n",
              "  </svg>\n",
              "      </button>\n",
              "      \n",
              "  <style>\n",
              "    .colab-df-container {\n",
              "      display:flex;\n",
              "      flex-wrap:wrap;\n",
              "      gap: 12px;\n",
              "    }\n",
              "\n",
              "    .colab-df-convert {\n",
              "      background-color: #E8F0FE;\n",
              "      border: none;\n",
              "      border-radius: 50%;\n",
              "      cursor: pointer;\n",
              "      display: none;\n",
              "      fill: #1967D2;\n",
              "      height: 32px;\n",
              "      padding: 0 0 0 0;\n",
              "      width: 32px;\n",
              "    }\n",
              "\n",
              "    .colab-df-convert:hover {\n",
              "      background-color: #E2EBFA;\n",
              "      box-shadow: 0px 1px 2px rgba(60, 64, 67, 0.3), 0px 1px 3px 1px rgba(60, 64, 67, 0.15);\n",
              "      fill: #174EA6;\n",
              "    }\n",
              "\n",
              "    [theme=dark] .colab-df-convert {\n",
              "      background-color: #3B4455;\n",
              "      fill: #D2E3FC;\n",
              "    }\n",
              "\n",
              "    [theme=dark] .colab-df-convert:hover {\n",
              "      background-color: #434B5C;\n",
              "      box-shadow: 0px 1px 3px 1px rgba(0, 0, 0, 0.15);\n",
              "      filter: drop-shadow(0px 1px 2px rgba(0, 0, 0, 0.3));\n",
              "      fill: #FFFFFF;\n",
              "    }\n",
              "  </style>\n",
              "\n",
              "      <script>\n",
              "        const buttonEl =\n",
              "          document.querySelector('#df-ed7e70c1-cc7b-419a-a402-e567a14dd54c button.colab-df-convert');\n",
              "        buttonEl.style.display =\n",
              "          google.colab.kernel.accessAllowed ? 'block' : 'none';\n",
              "\n",
              "        async function convertToInteractive(key) {\n",
              "          const element = document.querySelector('#df-ed7e70c1-cc7b-419a-a402-e567a14dd54c');\n",
              "          const dataTable =\n",
              "            await google.colab.kernel.invokeFunction('convertToInteractive',\n",
              "                                                     [key], {});\n",
              "          if (!dataTable) return;\n",
              "\n",
              "          const docLinkHtml = 'Like what you see? Visit the ' +\n",
              "            '<a target=\"_blank\" href=https://colab.research.google.com/notebooks/data_table.ipynb>data table notebook</a>'\n",
              "            + ' to learn more about interactive tables.';\n",
              "          element.innerHTML = '';\n",
              "          dataTable['output_type'] = 'display_data';\n",
              "          await google.colab.output.renderOutput(dataTable, element);\n",
              "          const docLink = document.createElement('div');\n",
              "          docLink.innerHTML = docLinkHtml;\n",
              "          element.appendChild(docLink);\n",
              "        }\n",
              "      </script>\n",
              "    </div>\n",
              "  </div>\n",
              "  "
            ]
          },
          "metadata": {},
          "execution_count": 100
        }
      ]
    },
    {
      "cell_type": "markdown",
      "id": "d919d958",
      "metadata": {
        "papermill": {
          "duration": 0.053239,
          "end_time": "2022-02-12T16:56:40.867650",
          "exception": false,
          "start_time": "2022-02-12T16:56:40.814411",
          "status": "completed"
        },
        "tags": [],
        "id": "d919d958"
      },
      "source": [
        "***Visualizing the Nullity Matrix(missing values).***"
      ]
    },
    {
      "cell_type": "code",
      "execution_count": null,
      "id": "2f8dfe60",
      "metadata": {
        "execution": {
          "iopub.execute_input": "2022-02-12T16:56:40.977099Z",
          "iopub.status.busy": "2022-02-12T16:56:40.976488Z",
          "iopub.status.idle": "2022-02-12T16:56:41.820884Z",
          "shell.execute_reply": "2022-02-12T16:56:41.821535Z",
          "shell.execute_reply.started": "2022-02-12T16:33:53.250601Z"
        },
        "papermill": {
          "duration": 0.901096,
          "end_time": "2022-02-12T16:56:41.821712",
          "exception": false,
          "start_time": "2022-02-12T16:56:40.920616",
          "status": "completed"
        },
        "tags": [],
        "colab": {
          "base_uri": "https://localhost:8080/",
          "height": 559
        },
        "id": "2f8dfe60",
        "outputId": "66c7a7fd-e7d2-4afa-ffd2-94f014ab43f9"
      },
      "outputs": [
        {
          "output_type": "execute_result",
          "data": {
            "text/plain": [
              "<matplotlib.axes._subplots.AxesSubplot at 0x7fc6ff00ac10>"
            ]
          },
          "metadata": {},
          "execution_count": 101
        },
        {
          "output_type": "display_data",
          "data": {
            "text/plain": [
              "<Figure size 1800x720 with 2 Axes>"
            ],
            "image/png": "[encoded data removed]"
          },
          "metadata": {}
        }
      ],
      "source": [
        "msno.matrix(df)"
      ]
    },
    {
      "cell_type": "markdown",
      "id": "cd4c1f60",
      "metadata": {
        "papermill": {
          "duration": 0.054375,
          "end_time": "2022-02-12T16:56:41.931424",
          "exception": false,
          "start_time": "2022-02-12T16:56:41.877049",
          "status": "completed"
        },
        "tags": [],
        "id": "cd4c1f60"
      },
      "source": [
        "***Imputing the missing values with the median value of that particular column by \"Potability\". It means that if there is missing value in a row and that row has the \"Potability\" value of 1, it is imputed with meadian value of the group in that particular column in which all the rows have the \"Potability\" value of 1. If that row has the \"Potability\" value of 0, then it is imputed with median value of the group in that particular column in which all the rows have the \"Potability\" value of 0.***"
      ]
    },
    {
      "cell_type": "code",
      "execution_count": null,
      "id": "5f3d4413",
      "metadata": {
        "execution": {
          "iopub.execute_input": "2022-02-12T16:56:42.045505Z",
          "iopub.status.busy": "2022-02-12T16:56:42.044800Z",
          "iopub.status.idle": "2022-02-12T16:56:42.056079Z",
          "shell.execute_reply": "2022-02-12T16:56:42.056578Z",
          "shell.execute_reply.started": "2022-02-12T16:33:53.889028Z"
        },
        "papermill": {
          "duration": 0.069696,
          "end_time": "2022-02-12T16:56:42.056753",
          "exception": false,
          "start_time": "2022-02-12T16:56:41.987057",
          "status": "completed"
        },
        "tags": [],
        "id": "5f3d4413"
      },
      "outputs": [],
      "source": [
        "df['ph'] = df['ph'].fillna(df.groupby(['Potability'])['ph'].transform('median'))\n",
        "df['Sulfate'] = df['Sulfate'].fillna(df.groupby(['Potability'])['Sulfate'].transform('median'))\n",
        "df['Trihalomethanes'] = df['Trihalomethanes'].fillna(df.groupby(['Potability'])['Trihalomethanes'].transform('median'))"
      ]
    },
    {
      "cell_type": "code",
      "source": [
        "df.isna().sum()"
      ],
      "metadata": {
        "colab": {
          "base_uri": "https://localhost:8080/"
        },
        "id": "-dcibG7Gx08l",
        "outputId": "da70c691-efb6-4a82-d646-d9aaea559974"
      },
      "id": "-dcibG7Gx08l",
      "execution_count": null,
      "outputs": [
        {
          "output_type": "execute_result",
          "data": {
            "text/plain": [
              "ph                 0\n",
              "Hardness           0\n",
              "Solids             0\n",
              "Chloramines        0\n",
              "Sulfate            0\n",
              "Conductivity       0\n",
              "Organic_carbon     0\n",
              "Trihalomethanes    0\n",
              "Turbidity          0\n",
              "Potability         0\n",
              "dtype: int64"
            ]
          },
          "metadata": {},
          "execution_count": 103
        }
      ]
    },
    {
      "cell_type": "markdown",
      "id": "1f284cc7",
      "metadata": {
        "papermill": {
          "duration": 0.056203,
          "end_time": "2022-02-12T16:56:42.170602",
          "exception": false,
          "start_time": "2022-02-12T16:56:42.114399",
          "status": "completed"
        },
        "tags": [],
        "id": "1f284cc7"
      },
      "source": [
        "***It seems that there is no duplicate in the dataset.***"
      ]
    },
    {
      "cell_type": "code",
      "execution_count": null,
      "id": "15224b48",
      "metadata": {
        "execution": {
          "iopub.execute_input": "2022-02-12T16:56:42.287326Z",
          "iopub.status.busy": "2022-02-12T16:56:42.286662Z",
          "iopub.status.idle": "2022-02-12T16:56:42.299111Z",
          "shell.execute_reply": "2022-02-12T16:56:42.299676Z",
          "shell.execute_reply.started": "2022-02-12T16:33:53.904691Z"
        },
        "papermill": {
          "duration": 0.073897,
          "end_time": "2022-02-12T16:56:42.299855",
          "exception": false,
          "start_time": "2022-02-12T16:56:42.225958",
          "status": "completed"
        },
        "tags": [],
        "colab": {
          "base_uri": "https://localhost:8080/"
        },
        "id": "15224b48",
        "outputId": "99a6ef66-c59d-4f33-aeaa-49fc061b1148"
      },
      "outputs": [
        {
          "output_type": "execute_result",
          "data": {
            "text/plain": [
              "0"
            ]
          },
          "metadata": {},
          "execution_count": 104
        }
      ],
      "source": [
        "df.duplicated().sum()"
      ]
    },
    {
      "cell_type": "markdown",
      "id": "36c9807e",
      "metadata": {
        "papermill": {
          "duration": 0.056087,
          "end_time": "2022-02-12T16:56:42.412417",
          "exception": false,
          "start_time": "2022-02-12T16:56:42.356330",
          "status": "completed"
        },
        "tags": [],
        "id": "36c9807e"
      },
      "source": [
        "# Data Visualization"
      ]
    },
    {
      "cell_type": "markdown",
      "id": "ebabbf7d",
      "metadata": {
        "papermill": {
          "duration": 0.134184,
          "end_time": "2022-02-12T16:57:22.896136",
          "exception": false,
          "start_time": "2022-02-12T16:57:22.761952",
          "status": "completed"
        },
        "tags": [],
        "id": "ebabbf7d"
      },
      "source": [
        "<h3>Plotting the Distribution of Each Variable</h3>"
      ]
    },
    {
      "cell_type": "code",
      "execution_count": null,
      "metadata": {
        "colab": {
          "base_uri": "https://localhost:8080/",
          "height": 1000
        },
        "outputId": "ca39bd08-4ec0-4cb2-da39-05753cf11f44",
        "id": "t6ah96WvYfhc"
      },
      "outputs": [
        {
          "output_type": "display_data",
          "data": {
            "text/plain": [
              "<Figure size 432x288 with 1 Axes>"
            ],
            "image/png": "[encoded data removed]"
          },
          "metadata": {}
        },
        {
          "output_type": "display_data",
          "data": {
            "text/plain": [
              "<Figure size 432x288 with 1 Axes>"
            ],
            "image/png": "[encoded data removed]"
          },
          "metadata": {}
        },
        {
          "output_type": "display_data",
          "data": {
            "text/plain": [
              "<Figure size 432x288 with 1 Axes>"
            ],
            "image/png": "[encoded data removed]"
          },
          "metadata": {}
        },
        {
          "output_type": "display_data",
          "data": {
            "text/plain": [
              "<Figure size 432x288 with 1 Axes>"
            ],
            "image/png": "[encoded data removed]"
          },
          "metadata": {}
        },
        {
          "output_type": "display_data",
          "data": {
            "text/plain": [
              "<Figure size 432x288 with 1 Axes>"
            ],
            "image/png": "[encoded data removed]"
          },
          "metadata": {}
        },
        {
          "output_type": "display_data",
          "data": {
            "text/plain": [
              "<Figure size 432x288 with 1 Axes>"
            ],
            "image/png": "[encoded data removed]"
          },
          "metadata": {}
        },
        {
          "output_type": "display_data",
          "data": {
            "text/plain": [
              "<Figure size 432x288 with 1 Axes>"
            ],
            "image/png": "[encoded data removed]"
          },
          "metadata": {}
        },
        {
          "output_type": "display_data",
          "data": {
            "text/plain": [
              "<Figure size 432x288 with 1 Axes>"
            ],
            "image/png": "[encoded data removed]"
          },
          "metadata": {}
        },
        {
          "output_type": "display_data",
          "data": {
            "text/plain": [
              "<Figure size 432x288 with 1 Axes>"
            ],
            "image/png": "[encoded data removed]"
          },
          "metadata": {}
        },
        {
          "output_type": "display_data",
          "data": {
            "text/plain": [
              "<Figure size 432x288 with 1 Axes>"
            ],
            "image/png": "[encoded data removed]"
          },
          "metadata": {}
        }
      ],
      "source": [
        "\n",
        "plt.style.use('seaborn-dark')\n",
        "colors=['#00a8e8', '#00afb9',  '#48bfe3', '#006e90', '#20a4f3', '#00b4d8', '#0466c8', '#20a4f3', '#00008B','#1E90FF']\n",
        "i=0\n",
        "while i<10:\n",
        "    for col in df.columns:\n",
        "        plt.figure(figsize=(6,4))\n",
        "        sns.distplot(df[col],color=colors[i])\n",
        "        plt.title(f'Distribution plot for {col}')\n",
        "        plt.xlabel(f'Skewness = {round(df[col].skew(),3)}',fontsize=14)\n",
        "        i+=1\n",
        "        plt.show()"
      ],
      "id": "t6ah96WvYfhc"
    },
    {
      "cell_type": "code",
      "execution_count": null,
      "id": "b4a36d79",
      "metadata": {
        "execution": {
          "iopub.execute_input": "2022-02-12T16:57:27.177079Z",
          "iopub.status.busy": "2022-02-12T16:57:27.176103Z",
          "iopub.status.idle": "2022-02-12T16:57:27.292740Z",
          "shell.execute_reply": "2022-02-12T16:57:27.293208Z",
          "shell.execute_reply.started": "2022-02-12T16:34:37.385432Z"
        },
        "papermill": {
          "duration": 0.264057,
          "end_time": "2022-02-12T16:57:27.293381",
          "exception": false,
          "start_time": "2022-02-12T16:57:27.029324",
          "status": "completed"
        },
        "tags": [],
        "colab": {
          "base_uri": "https://localhost:8080/",
          "height": 542
        },
        "id": "b4a36d79",
        "outputId": "0bfd4d1f-b835-4523-8095-bfb5eca8e0a4"
      },
      "outputs": [
        {
          "output_type": "display_data",
          "data": {
            "text/html": [
              "<html>\n",
              "<head><meta charset=\"utf-8\" /></head>\n",
              "<body>\n",
              "    <div>            <script src=\"https://cdnjs.cloudflare.com/ajax/libs/mathjax/2.7.5/MathJax.js?config=TeX-AMS-MML_SVG\"></script><script type=\"text/javascript\">if (window.MathJax) {MathJax.Hub.Config({SVG: {font: \"STIX-Web\"}});}</script>                <script type=\"text/javascript\">window.PlotlyConfig = {MathJaxConfig: 'local'};</script>\n",
              "        <script src=\"https://cdn.plot.ly/plotly-2.8.3.min.js\"></script>                <div id=\"63d898d6-385e-43a7-9a1b-116d0e1c9552\" class=\"plotly-graph-div\" style=\"height:525px; width:100%;\"></div>            <script type=\"text/javascript\">                                    window.PLOTLYENV=window.PLOTLYENV || {};                                    if (document.getElementById(\"63d898d6-385e-43a7-9a1b-116d0e1c9552\")) {                    Plotly.newPlot(                        \"63d898d6-385e-43a7-9a1b-116d0e1c9552\",                        [{\"hole\":0.5,\"labels\":[\"Not Potable\",\"Potable\"],\"title\":{\"text\":\"Potability\"},\"values\":[1998,1278],\"type\":\"pie\"}],                        {\"template\":{\"data\":{\"bar\":[{\"error_x\":{\"color\":\"#2a3f5f\"},\"error_y\":{\"color\":\"#2a3f5f\"},\"marker\":{\"line\":{\"color\":\"#E5ECF6\",\"width\":0.5},\"pattern\":{\"fillmode\":\"overlay\",\"size\":10,\"solidity\":0.2}},\"type\":\"bar\"}],\"barpolar\":[{\"marker\":{\"line\":{\"color\":\"#E5ECF6\",\"width\":0.5},\"pattern\":{\"fillmode\":\"overlay\",\"size\":10,\"solidity\":0.2}},\"type\":\"barpolar\"}],\"carpet\":[{\"aaxis\":{\"endlinecolor\":\"#2a3f5f\",\"gridcolor\":\"white\",\"linecolor\":\"white\",\"minorgridcolor\":\"white\",\"startlinecolor\":\"#2a3f5f\"},\"baxis\":{\"endlinecolor\":\"#2a3f5f\",\"gridcolor\":\"white\",\"linecolor\":\"white\",\"minorgridcolor\":\"white\",\"startlinecolor\":\"#2a3f5f\"},\"type\":\"carpet\"}],\"choropleth\":[{\"colorbar\":{\"outlinewidth\":0,\"ticks\":\"\"},\"type\":\"choropleth\"}],\"contour\":[{\"colorbar\":{\"outlinewidth\":0,\"ticks\":\"\"},\"colorscale\":[[0.0,\"#0d0887\"],[0.1111111111111111,\"#46039f\"],[0.2222222222222222,\"#7201a8\"],[0.3333333333333333,\"#9c179e\"],[0.4444444444444444,\"#bd3786\"],[0.5555555555555556,\"#d8576b\"],[0.6666666666666666,\"#ed7953\"],[0.7777777777777778,\"#fb9f3a\"],[0.8888888888888888,\"#fdca26\"],[1.0,\"#f0f921\"]],\"type\":\"contour\"}],\"contourcarpet\":[{\"colorbar\":{\"outlinewidth\":0,\"ticks\":\"\"},\"type\":\"contourcarpet\"}],\"heatmap\":[{\"colorbar\":{\"outlinewidth\":0,\"ticks\":\"\"},\"colorscale\":[[0.0,\"#0d0887\"],[0.1111111111111111,\"#46039f\"],[0.2222222222222222,\"#7201a8\"],[0.3333333333333333,\"#9c179e\"],[0.4444444444444444,\"#bd3786\"],[0.5555555555555556,\"#d8576b\"],[0.6666666666666666,\"#ed7953\"],[0.7777777777777778,\"#fb9f3a\"],[0.8888888888888888,\"#fdca26\"],[1.0,\"#f0f921\"]],\"type\":\"heatmap\"}],\"heatmapgl\":[{\"colorbar\":{\"outlinewidth\":0,\"ticks\":\"\"},\"colorscale\":[[0.0,\"#0d0887\"],[0.1111111111111111,\"#46039f\"],[0.2222222222222222,\"#7201a8\"],[0.3333333333333333,\"#9c179e\"],[0.4444444444444444,\"#bd3786\"],[0.5555555555555556,\"#d8576b\"],[0.6666666666666666,\"#ed7953\"],[0.7777777777777778,\"#fb9f3a\"],[0.8888888888888888,\"#fdca26\"],[1.0,\"#f0f921\"]],\"type\":\"heatmapgl\"}],\"histogram\":[{\"marker\":{\"pattern\":{\"fillmode\":\"overlay\",\"size\":10,\"solidity\":0.2}},\"type\":\"histogram\"}],\"histogram2d\":[{\"colorbar\":{\"outlinewidth\":0,\"ticks\":\"\"},\"colorscale\":[[0.0,\"#0d0887\"],[0.1111111111111111,\"#46039f\"],[0.2222222222222222,\"#7201a8\"],[0.3333333333333333,\"#9c179e\"],[0.4444444444444444,\"#bd3786\"],[0.5555555555555556,\"#d8576b\"],[0.6666666666666666,\"#ed7953\"],[0.7777777777777778,\"#fb9f3a\"],[0.8888888888888888,\"#fdca26\"],[1.0,\"#f0f921\"]],\"type\":\"histogram2d\"}],\"histogram2dcontour\":[{\"colorbar\":{\"outlinewidth\":0,\"ticks\":\"\"},\"colorscale\":[[0.0,\"#0d0887\"],[0.1111111111111111,\"#46039f\"],[0.2222222222222222,\"#7201a8\"],[0.3333333333333333,\"#9c179e\"],[0.4444444444444444,\"#bd3786\"],[0.5555555555555556,\"#d8576b\"],[0.6666666666666666,\"#ed7953\"],[0.7777777777777778,\"#fb9f3a\"],[0.8888888888888888,\"#fdca26\"],[1.0,\"#f0f921\"]],\"type\":\"histogram2dcontour\"}],\"mesh3d\":[{\"colorbar\":{\"outlinewidth\":0,\"ticks\":\"\"},\"type\":\"mesh3d\"}],\"parcoords\":[{\"line\":{\"colorbar\":{\"outlinewidth\":0,\"ticks\":\"\"}},\"type\":\"parcoords\"}],\"pie\":[{\"automargin\":true,\"type\":\"pie\"}],\"scatter\":[{\"marker\":{\"colorbar\":{\"outlinewidth\":0,\"ticks\":\"\"}},\"type\":\"scatter\"}],\"scatter3d\":[{\"line\":{\"colorbar\":{\"outlinewidth\":0,\"ticks\":\"\"}},\"marker\":{\"colorbar\":{\"outlinewidth\":0,\"ticks\":\"\"}},\"type\":\"scatter3d\"}],\"scattercarpet\":[{\"marker\":{\"colorbar\":{\"outlinewidth\":0,\"ticks\":\"\"}},\"type\":\"scattercarpet\"}],\"scattergeo\":[{\"marker\":{\"colorbar\":{\"outlinewidth\":0,\"ticks\":\"\"}},\"type\":\"scattergeo\"}],\"scattergl\":[{\"marker\":{\"colorbar\":{\"outlinewidth\":0,\"ticks\":\"\"}},\"type\":\"scattergl\"}],\"scattermapbox\":[{\"marker\":{\"colorbar\":{\"outlinewidth\":0,\"ticks\":\"\"}},\"type\":\"scattermapbox\"}],\"scatterpolar\":[{\"marker\":{\"colorbar\":{\"outlinewidth\":0,\"ticks\":\"\"}},\"type\":\"scatterpolar\"}],\"scatterpolargl\":[{\"marker\":{\"colorbar\":{\"outlinewidth\":0,\"ticks\":\"\"}},\"type\":\"scatterpolargl\"}],\"scatterternary\":[{\"marker\":{\"colorbar\":{\"outlinewidth\":0,\"ticks\":\"\"}},\"type\":\"scatterternary\"}],\"surface\":[{\"colorbar\":{\"outlinewidth\":0,\"ticks\":\"\"},\"colorscale\":[[0.0,\"#0d0887\"],[0.1111111111111111,\"#46039f\"],[0.2222222222222222,\"#7201a8\"],[0.3333333333333333,\"#9c179e\"],[0.4444444444444444,\"#bd3786\"],[0.5555555555555556,\"#d8576b\"],[0.6666666666666666,\"#ed7953\"],[0.7777777777777778,\"#fb9f3a\"],[0.8888888888888888,\"#fdca26\"],[1.0,\"#f0f921\"]],\"type\":\"surface\"}],\"table\":[{\"cells\":{\"fill\":{\"color\":\"#EBF0F8\"},\"line\":{\"color\":\"white\"}},\"header\":{\"fill\":{\"color\":\"#C8D4E3\"},\"line\":{\"color\":\"white\"}},\"type\":\"table\"}]},\"layout\":{\"annotationdefaults\":{\"arrowcolor\":\"#2a3f5f\",\"arrowhead\":0,\"arrowwidth\":1},\"autotypenumbers\":\"strict\",\"coloraxis\":{\"colorbar\":{\"outlinewidth\":0,\"ticks\":\"\"}},\"colorscale\":{\"diverging\":[[0,\"#8e0152\"],[0.1,\"#c51b7d\"],[0.2,\"#de77ae\"],[0.3,\"#f1b6da\"],[0.4,\"#fde0ef\"],[0.5,\"#f7f7f7\"],[0.6,\"#e6f5d0\"],[0.7,\"#b8e186\"],[0.8,\"#7fbc41\"],[0.9,\"#4d9221\"],[1,\"#276419\"]],\"sequential\":[[0.0,\"#0d0887\"],[0.1111111111111111,\"#46039f\"],[0.2222222222222222,\"#7201a8\"],[0.3333333333333333,\"#9c179e\"],[0.4444444444444444,\"#bd3786\"],[0.5555555555555556,\"#d8576b\"],[0.6666666666666666,\"#ed7953\"],[0.7777777777777778,\"#fb9f3a\"],[0.8888888888888888,\"#fdca26\"],[1.0,\"#f0f921\"]],\"sequentialminus\":[[0.0,\"#0d0887\"],[0.1111111111111111,\"#46039f\"],[0.2222222222222222,\"#7201a8\"],[0.3333333333333333,\"#9c179e\"],[0.4444444444444444,\"#bd3786\"],[0.5555555555555556,\"#d8576b\"],[0.6666666666666666,\"#ed7953\"],[0.7777777777777778,\"#fb9f3a\"],[0.8888888888888888,\"#fdca26\"],[1.0,\"#f0f921\"]]},\"colorway\":[\"#636efa\",\"#EF553B\",\"#00cc96\",\"#ab63fa\",\"#FFA15A\",\"#19d3f3\",\"#FF6692\",\"#B6E880\",\"#FF97FF\",\"#FECB52\"],\"font\":{\"color\":\"#2a3f5f\"},\"geo\":{\"bgcolor\":\"white\",\"lakecolor\":\"white\",\"landcolor\":\"#E5ECF6\",\"showlakes\":true,\"showland\":true,\"subunitcolor\":\"white\"},\"hoverlabel\":{\"align\":\"left\"},\"hovermode\":\"closest\",\"mapbox\":{\"style\":\"light\"},\"paper_bgcolor\":\"white\",\"plot_bgcolor\":\"#E5ECF6\",\"polar\":{\"angularaxis\":{\"gridcolor\":\"white\",\"linecolor\":\"white\",\"ticks\":\"\"},\"bgcolor\":\"#E5ECF6\",\"radialaxis\":{\"gridcolor\":\"white\",\"linecolor\":\"white\",\"ticks\":\"\"}},\"scene\":{\"xaxis\":{\"backgroundcolor\":\"#E5ECF6\",\"gridcolor\":\"white\",\"gridwidth\":2,\"linecolor\":\"white\",\"showbackground\":true,\"ticks\":\"\",\"zerolinecolor\":\"white\"},\"yaxis\":{\"backgroundcolor\":\"#E5ECF6\",\"gridcolor\":\"white\",\"gridwidth\":2,\"linecolor\":\"white\",\"showbackground\":true,\"ticks\":\"\",\"zerolinecolor\":\"white\"},\"zaxis\":{\"backgroundcolor\":\"#E5ECF6\",\"gridcolor\":\"white\",\"gridwidth\":2,\"linecolor\":\"white\",\"showbackground\":true,\"ticks\":\"\",\"zerolinecolor\":\"white\"}},\"shapedefaults\":{\"line\":{\"color\":\"#2a3f5f\"}},\"ternary\":{\"aaxis\":{\"gridcolor\":\"white\",\"linecolor\":\"white\",\"ticks\":\"\"},\"baxis\":{\"gridcolor\":\"white\",\"linecolor\":\"white\",\"ticks\":\"\"},\"bgcolor\":\"#E5ECF6\",\"caxis\":{\"gridcolor\":\"white\",\"linecolor\":\"white\",\"ticks\":\"\"}},\"title\":{\"x\":0.05},\"xaxis\":{\"automargin\":true,\"gridcolor\":\"white\",\"linecolor\":\"white\",\"ticks\":\"\",\"title\":{\"standoff\":15},\"zerolinecolor\":\"white\",\"zerolinewidth\":2},\"yaxis\":{\"automargin\":true,\"gridcolor\":\"white\",\"linecolor\":\"white\",\"ticks\":\"\",\"title\":{\"standoff\":15},\"zerolinecolor\":\"white\",\"zerolinewidth\":2}}}},                        {\"responsive\": true}                    ).then(function(){\n",
              "                            \n",
              "var gd = document.getElementById('63d898d6-385e-43a7-9a1b-116d0e1c9552');\n",
              "var x = new MutationObserver(function (mutations, observer) {{\n",
              "        var display = window.getComputedStyle(gd).display;\n",
              "        if (!display || display === 'none') {{\n",
              "            console.log([gd, 'removed!']);\n",
              "            Plotly.purge(gd);\n",
              "            observer.disconnect();\n",
              "        }}\n",
              "}});\n",
              "\n",
              "// Listen for the removal of the full notebook cells\n",
              "var notebookContainer = gd.closest('#notebook-container');\n",
              "if (notebookContainer) {{\n",
              "    x.observe(notebookContainer, {childList: true});\n",
              "}}\n",
              "\n",
              "// Listen for the clearing of the current output cell\n",
              "var outputEl = gd.closest('.output');\n",
              "if (outputEl) {{\n",
              "    x.observe(outputEl, {childList: true});\n",
              "}}\n",
              "\n",
              "                        })                };                            </script>        </div>\n",
              "</body>\n",
              "</html>"
            ]
          },
          "metadata": {}
        }
      ],
      "source": [
        "labels = ['Not Potable','Potable']\n",
        "values = [df[df[\"Potability\"]==0].shape[0], df[df[\"Potability\"]==1].shape[0]]\n",
        "\n",
        "fig = go.Figure(data=[go.Pie(labels=labels, values=values, hole=0.5, title=\"Potability\")])\n",
        "fig.show()"
      ]
    },
    {
      "cell_type": "markdown",
      "id": "f1323ac9",
      "metadata": {
        "papermill": {
          "duration": 0.153443,
          "end_time": "2022-02-12T16:57:30.094086",
          "exception": false,
          "start_time": "2022-02-12T16:57:29.940643",
          "status": "completed"
        },
        "tags": [],
        "id": "f1323ac9"
      },
      "source": [
        "***Visualizing the linear correlations between variables using Heatmap Visualization. The measure used for finding the linear correlation between each variable is Pearson Correlation Coefficient.***"
      ]
    },
    {
      "cell_type": "code",
      "execution_count": null,
      "id": "1f87a992",
      "metadata": {
        "execution": {
          "iopub.execute_input": "2022-02-12T16:57:30.421438Z",
          "iopub.status.busy": "2022-02-12T16:57:30.420610Z",
          "iopub.status.idle": "2022-02-12T16:57:31.205941Z",
          "shell.execute_reply": "2022-02-12T16:57:31.206436Z",
          "shell.execute_reply.started": "2022-02-12T16:34:39.375882Z"
        },
        "papermill": {
          "duration": 0.957987,
          "end_time": "2022-02-12T16:57:31.206602",
          "exception": false,
          "start_time": "2022-02-12T16:57:30.248615",
          "status": "completed"
        },
        "tags": [],
        "colab": {
          "base_uri": "https://localhost:8080/",
          "height": 561
        },
        "id": "1f87a992",
        "outputId": "32ae47b7-5c5c-42d3-bd16-738c3cf032b8"
      },
      "outputs": [
        {
          "output_type": "display_data",
          "data": {
            "text/plain": [
              "<Figure size 864x576 with 2 Axes>"
            ],
            "image/png": "[encoded data removed]"
          },
          "metadata": {}
        }
      ],
      "source": [
        "plt.figure(figsize=(12, 8))\n",
        "sns.heatmap(df.corr(), annot=True, cmap=\"Blues\")\n",
        "plt.title(\"Correlations Between Variables\", size=16)\n",
        "plt.show()"
      ]
    },
    {
      "cell_type": "markdown",
      "id": "3fe70fe9",
      "metadata": {
        "papermill": {
          "duration": 0.159238,
          "end_time": "2022-02-12T16:57:31.528102",
          "exception": false,
          "start_time": "2022-02-12T16:57:31.368864",
          "status": "completed"
        },
        "tags": [],
        "id": "3fe70fe9"
      },
      "source": [
        "# Data Preprocessing"
      ]
    },
    {
      "cell_type": "markdown",
      "id": "e23479b8",
      "metadata": {
        "papermill": {
          "duration": 0.158373,
          "end_time": "2022-02-12T16:57:31.845328",
          "exception": false,
          "start_time": "2022-02-12T16:57:31.686955",
          "status": "completed"
        },
        "tags": [],
        "id": "e23479b8"
      },
      "source": [
        "<h3>X, y Split</h3>"
      ]
    },
    {
      "cell_type": "code",
      "execution_count": null,
      "id": "b2c85d83",
      "metadata": {
        "execution": {
          "iopub.execute_input": "2022-02-12T16:57:32.170621Z",
          "iopub.status.busy": "2022-02-12T16:57:32.169769Z",
          "iopub.status.idle": "2022-02-12T16:57:32.172525Z",
          "shell.execute_reply": "2022-02-12T16:57:32.173073Z",
          "shell.execute_reply.started": "2022-02-12T16:34:40.125449Z"
        },
        "papermill": {
          "duration": 0.167664,
          "end_time": "2022-02-12T16:57:32.173243",
          "exception": false,
          "start_time": "2022-02-12T16:57:32.005579",
          "status": "completed"
        },
        "tags": [],
        "id": "b2c85d83"
      },
      "outputs": [],
      "source": [
        "X = df.drop(\"Potability\", axis=1)\n",
        "y = df[\"Potability\"]"
      ]
    },
    {
      "cell_type": "markdown",
      "id": "66a4b133",
      "metadata": {
        "papermill": {
          "duration": 0.162689,
          "end_time": "2022-02-12T16:57:32.494652",
          "exception": false,
          "start_time": "2022-02-12T16:57:32.331963",
          "status": "completed"
        },
        "tags": [],
        "id": "66a4b133"
      },
      "source": [
        "<h3>Data Standardization</h3>"
      ]
    },
    {
      "cell_type": "code",
      "execution_count": null,
      "id": "cfdd6f9b",
      "metadata": {
        "execution": {
          "iopub.execute_input": "2022-02-12T16:57:32.825411Z",
          "iopub.status.busy": "2022-02-12T16:57:32.824329Z",
          "iopub.status.idle": "2022-02-12T16:57:32.833053Z",
          "shell.execute_reply": "2022-02-12T16:57:32.833558Z",
          "shell.execute_reply.started": "2022-02-12T16:34:40.133084Z"
        },
        "papermill": {
          "duration": 0.174925,
          "end_time": "2022-02-12T16:57:32.833755",
          "exception": false,
          "start_time": "2022-02-12T16:57:32.658830",
          "status": "completed"
        },
        "tags": [],
        "id": "cfdd6f9b"
      },
      "outputs": [],
      "source": [
        "scaler = StandardScaler()\n",
        "X = scaler.fit_transform(X)"
      ]
    },
    {
      "cell_type": "markdown",
      "id": "11532feb",
      "metadata": {
        "papermill": {
          "duration": 0.158075,
          "end_time": "2022-02-12T16:57:33.163828",
          "exception": false,
          "start_time": "2022-02-12T16:57:33.005753",
          "status": "completed"
        },
        "tags": [],
        "id": "11532feb"
      },
      "source": [
        "<h3>Train-Test Split</h3>"
      ]
    },
    {
      "cell_type": "code",
      "execution_count": null,
      "id": "cb34aa77",
      "metadata": {
        "execution": {
          "iopub.execute_input": "2022-02-12T16:57:33.491239Z",
          "iopub.status.busy": "2022-02-12T16:57:33.490519Z",
          "iopub.status.idle": "2022-02-12T16:57:33.495794Z",
          "shell.execute_reply": "2022-02-12T16:57:33.496358Z",
          "shell.execute_reply.started": "2022-02-12T16:34:40.149887Z"
        },
        "papermill": {
          "duration": 0.174873,
          "end_time": "2022-02-12T16:57:33.496545",
          "exception": false,
          "start_time": "2022-02-12T16:57:33.321672",
          "status": "completed"
        },
        "tags": [],
        "id": "cb34aa77"
      },
      "outputs": [],
      "source": [
        "X_train, X_test, y_train, y_test = train_test_split(X, y, test_size=0.2, random_state=42)"
      ]
    },
    {
      "cell_type": "markdown",
      "id": "a5f1e6cc",
      "metadata": {
        "papermill": {
          "duration": 0.166566,
          "end_time": "2022-02-12T16:57:33.828395",
          "exception": false,
          "start_time": "2022-02-12T16:57:33.661829",
          "status": "completed"
        },
        "tags": [],
        "id": "a5f1e6cc"
      },
      "source": [
        "# Machine Learning Models"
      ]
    },
    {
      "cell_type": "code",
      "execution_count": null,
      "id": "5e4d6b34",
      "metadata": {
        "execution": {
          "iopub.execute_input": "2022-02-12T16:57:34.162776Z",
          "iopub.status.busy": "2022-02-12T16:57:34.162107Z",
          "iopub.status.idle": "2022-02-12T16:57:34.164680Z",
          "shell.execute_reply": "2022-02-12T16:57:34.164188Z",
          "shell.execute_reply.started": "2022-02-12T16:51:51.787778Z"
        },
        "papermill": {
          "duration": 0.172798,
          "end_time": "2022-02-12T16:57:34.164830",
          "exception": false,
          "start_time": "2022-02-12T16:57:33.992032",
          "status": "completed"
        },
        "tags": [],
        "id": "5e4d6b34"
      },
      "outputs": [],
      "source": [
        "models = pd.DataFrame(columns=[\"Model\", \"Accuracy Score\"])"
      ]
    },
    {
      "cell_type": "code",
      "execution_count": null,
      "id": "d67da94a",
      "metadata": {
        "execution": {
          "iopub.execute_input": "2022-02-12T16:57:34.498727Z",
          "iopub.status.busy": "2022-02-12T16:57:34.498044Z",
          "iopub.status.idle": "2022-02-12T16:57:34.500657Z",
          "shell.execute_reply": "2022-02-12T16:57:34.500096Z",
          "shell.execute_reply.started": "2022-02-12T16:51:52.408843Z"
        },
        "papermill": {
          "duration": 0.173489,
          "end_time": "2022-02-12T16:57:34.500814",
          "exception": false,
          "start_time": "2022-02-12T16:57:34.327325",
          "status": "completed"
        },
        "tags": [],
        "id": "d67da94a"
      },
      "outputs": [],
      "source": [
        "model_list = [(\"Logistic Regression\", LogisticRegression(random_state=42)), \n",
        "              (\"Random Forest\", RandomForestClassifier(random_state=42)),\n",
        "              (\"LightGBM\", LGBMClassifier(random_state=42)),\n",
        "              (\"Support Vector Machines\", SVC(random_state=42)),\n",
        "              (\"XGBoost\", XGBClassifier(random_state=42)),\n",
        "              (\"Gaussian Naive Bayes\", GaussianNB()),\n",
        "              (\"Bernoulli Naive Bayes\", BernoulliNB()),\n",
        "              (\"KNN\", KNeighborsClassifier(n_neighbors=2)),\n",
        "              (\"Decision Tree\", DecisionTreeClassifier(random_state=42)),\n",
        "              (\"Bagging Classifier\", BaggingClassifier(base_estimator=RandomForestClassifier(), random_state=42))]"
      ]
    },
    {
      "cell_type": "code",
      "execution_count": null,
      "id": "57eed675",
      "metadata": {
        "execution": {
          "iopub.execute_input": "2022-02-12T16:57:34.831166Z",
          "iopub.status.busy": "2022-02-12T16:57:34.830468Z",
          "iopub.status.idle": "2022-02-12T16:57:42.249134Z",
          "shell.execute_reply": "2022-02-12T16:57:42.248412Z",
          "shell.execute_reply.started": "2022-02-12T16:51:53.071873Z"
        },
        "papermill": {
          "duration": 7.585551,
          "end_time": "2022-02-12T16:57:42.249289",
          "exception": false,
          "start_time": "2022-02-12T16:57:34.663738",
          "status": "completed"
        },
        "tags": [],
        "id": "57eed675"
      },
      "outputs": [],
      "source": [
        "for name, clf in model_list:\n",
        "    clf.fit(X_train, y_train)\n",
        "    predictions = clf.predict(X_test)\n",
        "    score = accuracy_score(y_test, predictions)\n",
        "    \n",
        "    new_row = {\"Model\": name, \"Accuracy Score\": score}\n",
        "    models = models.append(new_row, ignore_index=True)"
      ]
    },
    {
      "cell_type": "markdown",
      "id": "b9370766",
      "metadata": {
        "papermill": {
          "duration": 0.159724,
          "end_time": "2022-02-12T16:57:42.570071",
          "exception": false,
          "start_time": "2022-02-12T16:57:42.410347",
          "status": "completed"
        },
        "tags": [],
        "id": "b9370766"
      },
      "source": [
        "***It can be seen that the one which is yielding the most accurate result without Hyperparameter Tuning is Random Forest.***"
      ]
    },
    {
      "cell_type": "code",
      "execution_count": null,
      "id": "27e9ba07",
      "metadata": {
        "execution": {
          "iopub.execute_input": "2022-02-12T16:57:42.911507Z",
          "iopub.status.busy": "2022-02-12T16:57:42.910525Z",
          "iopub.status.idle": "2022-02-12T16:57:42.914205Z",
          "shell.execute_reply": "2022-02-12T16:57:42.914702Z",
          "shell.execute_reply.started": "2022-02-12T16:52:00.736223Z"
        },
        "papermill": {
          "duration": 0.180866,
          "end_time": "2022-02-12T16:57:42.914888",
          "exception": false,
          "start_time": "2022-02-12T16:57:42.734022",
          "status": "completed"
        },
        "tags": [],
        "colab": {
          "base_uri": "https://localhost:8080/",
          "height": 363
        },
        "id": "27e9ba07",
        "outputId": "23d2927d-c6ac-49ba-fd38-dffccba6c806"
      },
      "outputs": [
        {
          "output_type": "execute_result",
          "data": {
            "text/plain": [
              "                     Model  Accuracy Score\n",
              "1            Random Forest        0.807927\n",
              "4                  XGBoost        0.803354\n",
              "9       Bagging Classifier        0.801829\n",
              "2                 LightGBM        0.791159\n",
              "8            Decision Tree        0.734756\n",
              "3  Support Vector Machines        0.696646\n",
              "7                      KNN        0.661585\n",
              "5     Gaussian Naive Bayes        0.629573\n",
              "0      Logistic Regression        0.628049\n",
              "6    Bernoulli Naive Bayes        0.628049"
            ],
            "text/html": [
              "\n",
              "  <div id=\"df-4efc92d3-d7c0-4cae-8c45-ca2f8f2fe6d1\">\n",
              "    <div class=\"colab-df-container\">\n",
              "      <div>\n",
              "<style scoped>\n",
              "    .dataframe tbody tr th:only-of-type {\n",
              "        vertical-align: middle;\n",
              "    }\n",
              "\n",
              "    .dataframe tbody tr th {\n",
              "        vertical-align: top;\n",
              "    }\n",
              "\n",
              "    .dataframe thead th {\n",
              "        text-align: right;\n",
              "    }\n",
              "</style>\n",
              "<table border=\"1\" class=\"dataframe\">\n",
              "  <thead>\n",
              "    <tr style=\"text-align: right;\">\n",
              "      <th></th>\n",
              "      <th>Model</th>\n",
              "      <th>Accuracy Score</th>\n",
              "    </tr>\n",
              "  </thead>\n",
              "  <tbody>\n",
              "    <tr>\n",
              "      <th>1</th>\n",
              "      <td>Random Forest</td>\n",
              "      <td>0.807927</td>\n",
              "    </tr>\n",
              "    <tr>\n",
              "      <th>4</th>\n",
              "      <td>XGBoost</td>\n",
              "      <td>0.803354</td>\n",
              "    </tr>\n",
              "    <tr>\n",
              "      <th>9</th>\n",
              "      <td>Bagging Classifier</td>\n",
              "      <td>0.801829</td>\n",
              "    </tr>\n",
              "    <tr>\n",
              "      <th>2</th>\n",
              "      <td>LightGBM</td>\n",
              "      <td>0.791159</td>\n",
              "    </tr>\n",
              "    <tr>\n",
              "      <th>8</th>\n",
              "      <td>Decision Tree</td>\n",
              "      <td>0.734756</td>\n",
              "    </tr>\n",
              "    <tr>\n",
              "      <th>3</th>\n",
              "      <td>Support Vector Machines</td>\n",
              "      <td>0.696646</td>\n",
              "    </tr>\n",
              "    <tr>\n",
              "      <th>7</th>\n",
              "      <td>KNN</td>\n",
              "      <td>0.661585</td>\n",
              "    </tr>\n",
              "    <tr>\n",
              "      <th>5</th>\n",
              "      <td>Gaussian Naive Bayes</td>\n",
              "      <td>0.629573</td>\n",
              "    </tr>\n",
              "    <tr>\n",
              "      <th>0</th>\n",
              "      <td>Logistic Regression</td>\n",
              "      <td>0.628049</td>\n",
              "    </tr>\n",
              "    <tr>\n",
              "      <th>6</th>\n",
              "      <td>Bernoulli Naive Bayes</td>\n",
              "      <td>0.628049</td>\n",
              "    </tr>\n",
              "  </tbody>\n",
              "</table>\n",
              "</div>\n",
              "      <button class=\"colab-df-convert\" onclick=\"convertToInteractive('df-4efc92d3-d7c0-4cae-8c45-ca2f8f2fe6d1')\"\n",
              "              title=\"Convert this dataframe to an interactive table.\"\n",
              "              style=\"display:none;\">\n",
              "        \n",
              "  <svg xmlns=\"http://www.w3.org/2000/svg\" height=\"24px\"viewBox=\"0 0 24 24\"\n",
              "       width=\"24px\">\n",
              "    <path d=\"M0 0h24v24H0V0z\" fill=\"none\"/>\n",
              "    <path d=\"M18.56 5.44l.94 2.06.94-2.06 2.06-.94-2.06-.94-.94-2.06-.94 2.06-2.06.94zm-11 1L8.5 8.5l.94-2.06 2.06-.94-2.06-.94L8.5 2.5l-.94 2.06-2.06.94zm10 10l.94 2.06.94-2.06 2.06-.94-2.06-.94-.94-2.06-.94 2.06-2.06.94z\"/><path d=\"M17.41 7.96l-1.37-1.37c-.4-.4-.92-.59-1.43-.59-.52 0-1.04.2-1.43.59L10.3 9.45l-7.72 7.72c-.78.78-.78 2.05 0 2.83L4 21.41c.39.39.9.59 1.41.59.51 0 1.02-.2 1.41-.59l7.78-7.78 2.81-2.81c.8-.78.8-2.07 0-2.86zM5.41 20L4 18.59l7.72-7.72 1.47 1.35L5.41 20z\"/>\n",
              "  </svg>\n",
              "      </button>\n",
              "      \n",
              "  <style>\n",
              "    .colab-df-container {\n",
              "      display:flex;\n",
              "      flex-wrap:wrap;\n",
              "      gap: 12px;\n",
              "    }\n",
              "\n",
              "    .colab-df-convert {\n",
              "      background-color: #E8F0FE;\n",
              "      border: none;\n",
              "      border-radius: 50%;\n",
              "      cursor: pointer;\n",
              "      display: none;\n",
              "      fill: #1967D2;\n",
              "      height: 32px;\n",
              "      padding: 0 0 0 0;\n",
              "      width: 32px;\n",
              "    }\n",
              "\n",
              "    .colab-df-convert:hover {\n",
              "      background-color: #E2EBFA;\n",
              "      box-shadow: 0px 1px 2px rgba(60, 64, 67, 0.3), 0px 1px 3px 1px rgba(60, 64, 67, 0.15);\n",
              "      fill: #174EA6;\n",
              "    }\n",
              "\n",
              "    [theme=dark] .colab-df-convert {\n",
              "      background-color: #3B4455;\n",
              "      fill: #D2E3FC;\n",
              "    }\n",
              "\n",
              "    [theme=dark] .colab-df-convert:hover {\n",
              "      background-color: #434B5C;\n",
              "      box-shadow: 0px 1px 3px 1px rgba(0, 0, 0, 0.15);\n",
              "      filter: drop-shadow(0px 1px 2px rgba(0, 0, 0, 0.3));\n",
              "      fill: #FFFFFF;\n",
              "    }\n",
              "  </style>\n",
              "\n",
              "      <script>\n",
              "        const buttonEl =\n",
              "          document.querySelector('#df-4efc92d3-d7c0-4cae-8c45-ca2f8f2fe6d1 button.colab-df-convert');\n",
              "        buttonEl.style.display =\n",
              "          google.colab.kernel.accessAllowed ? 'block' : 'none';\n",
              "\n",
              "        async function convertToInteractive(key) {\n",
              "          const element = document.querySelector('#df-4efc92d3-d7c0-4cae-8c45-ca2f8f2fe6d1');\n",
              "          const dataTable =\n",
              "            await google.colab.kernel.invokeFunction('convertToInteractive',\n",
              "                                                     [key], {});\n",
              "          if (!dataTable) return;\n",
              "\n",
              "          const docLinkHtml = 'Like what you see? Visit the ' +\n",
              "            '<a target=\"_blank\" href=https://colab.research.google.com/notebooks/data_table.ipynb>data table notebook</a>'\n",
              "            + ' to learn more about interactive tables.';\n",
              "          element.innerHTML = '';\n",
              "          dataTable['output_type'] = 'display_data';\n",
              "          await google.colab.output.renderOutput(dataTable, element);\n",
              "          const docLink = document.createElement('div');\n",
              "          docLink.innerHTML = docLinkHtml;\n",
              "          element.appendChild(docLink);\n",
              "        }\n",
              "      </script>\n",
              "    </div>\n",
              "  </div>\n",
              "  "
            ]
          },
          "metadata": {},
          "execution_count": 114
        }
      ],
      "source": [
        "models.sort_values(by=\"Accuracy Score\", ascending=False)"
      ]
    },
    {
      "cell_type": "code",
      "execution_count": null,
      "id": "66ba8628",
      "metadata": {
        "execution": {
          "iopub.execute_input": "2022-02-12T16:57:43.929587Z",
          "iopub.status.busy": "2022-02-12T16:57:43.922646Z",
          "iopub.status.idle": "2022-02-12T16:57:44.240152Z",
          "shell.execute_reply": "2022-02-12T16:57:44.239454Z",
          "shell.execute_reply.started": "2022-02-12T16:34:47.782467Z"
        },
        "papermill": {
          "duration": 0.485022,
          "end_time": "2022-02-12T16:57:44.240348",
          "exception": false,
          "start_time": "2022-02-12T16:57:43.755326",
          "status": "completed"
        },
        "tags": [],
        "colab": {
          "base_uri": "https://localhost:8080/",
          "height": 565
        },
        "id": "66ba8628",
        "outputId": "88c86ee7-b329-4cfd-9d1b-3f2629728656"
      },
      "outputs": [
        {
          "output_type": "display_data",
          "data": {
            "text/plain": [
              "<Figure size 1008x576 with 1 Axes>"
            ],
            "image/png": "[encoded data removed]"
          },
          "metadata": {}
        }
      ],
      "source": [
        "plt.figure(figsize=(14, 8))\n",
        "sns.barplot(x=models[\"Model\"], y=models[\"Accuracy Score\"])\n",
        "plt.title(\"Models' Accuracy Scores\", size=15)\n",
        "plt.xticks(rotation=30)\n",
        "plt.show()"
      ]
    },
    {
      "cell_type": "markdown",
      "source": [
        "# Deep Learning"
      ],
      "metadata": {
        "id": "phLbYBfDzN7a"
      },
      "id": "phLbYBfDzN7a"
    },
    {
      "cell_type": "code",
      "source": [
        "from sklearn.model_selection import train_test_split\n",
        "from tensorflow import keras\n",
        "import tensorflow as tf\n",
        "from tensorflow.keras import layers\n",
        "from tensorflow.keras.layers import LeakyReLU\n",
        "from tensorflow.keras import models\n",
        "from tensorflow.keras.layers import BatchNormalization, Dropout\n",
        "from tensorflow.keras.optimizers import Adam, Adagrad, RMSprop, SGD\n",
        "from tensorflow.keras.layers import Activation\n",
        "from sklearn.metrics import accuracy_score\n",
        "from sklearn.preprocessing import StandardScaler\n",
        "from tensorflow.keras.layers import BatchNormalization\n",
        "from keras.models import Sequential, load_model\n",
        "from keras.layers.core import Dense, Dropout, Activation"
      ],
      "metadata": {
        "id": "vWTew_o2f9ne"
      },
      "id": "vWTew_o2f9ne",
      "execution_count": null,
      "outputs": []
    },
    {
      "cell_type": "code",
      "source": [
        "# x is the set of features for predicting y(potability of water)\n",
        "x = df.drop(['Potability'], axis = 1)\n",
        "y = df['Potability']"
      ],
      "metadata": {
        "id": "PL1-Sq-YFuCy"
      },
      "id": "PL1-Sq-YFuCy",
      "execution_count": null,
      "outputs": []
    },
    {
      "cell_type": "code",
      "source": [
        "st = StandardScaler()\n",
        "x_columns= x.columns\n",
        "x[x_columns] = st.fit_transform(x[x_columns])"
      ],
      "metadata": {
        "id": "z-4hAqRCF3fU"
      },
      "id": "z-4hAqRCF3fU",
      "execution_count": null,
      "outputs": []
    },
    {
      "cell_type": "code",
      "source": [
        "x.head()"
      ],
      "metadata": {
        "colab": {
          "base_uri": "https://localhost:8080/",
          "height": 206
        },
        "id": "wM7btl_sF61i",
        "outputId": "c1ed636f-3f33-4f55-9311-e2e42d4cc111"
      },
      "id": "wM7btl_sF61i",
      "execution_count": null,
      "outputs": [
        {
          "output_type": "execute_result",
          "data": {
            "text/plain": [
              "         ph  Hardness    Solids  Chloramines   Sulfate  Conductivity  \\\n",
              "0 -0.026271  0.259195 -0.139471     0.112415  0.967633      1.708954   \n",
              "1 -2.284628 -2.036414 -0.385987    -0.307694 -0.004303      2.062575   \n",
              "2  0.697402  0.847665 -0.240047     1.360594 -0.004303     -0.094032   \n",
              "3  0.845476  0.547651  0.000493     0.592008  0.645832     -0.778830   \n",
              "4  1.373063 -0.464429 -0.460249    -0.363698 -0.647713     -0.343939   \n",
              "\n",
              "   Organic_carbon  Trihalomethanes  Turbidity  \n",
              "0       -1.180651         1.305542  -1.286298  \n",
              "1        0.270597        -0.639080   0.684218  \n",
              "2        0.781117         0.000907  -1.167365  \n",
              "3        1.255134         2.152263   0.848412  \n",
              "4       -0.824357        -2.182193   0.138786  "
            ],
            "text/html": [
              "\n",
              "  <div id=\"df-6cee0b5b-1f2f-4ffc-b4b8-4b74bb6d0050\">\n",
              "    <div class=\"colab-df-container\">\n",
              "      <div>\n",
              "<style scoped>\n",
              "    .dataframe tbody tr th:only-of-type {\n",
              "        vertical-align: middle;\n",
              "    }\n",
              "\n",
              "    .dataframe tbody tr th {\n",
              "        vertical-align: top;\n",
              "    }\n",
              "\n",
              "    .dataframe thead th {\n",
              "        text-align: right;\n",
              "    }\n",
              "</style>\n",
              "<table border=\"1\" class=\"dataframe\">\n",
              "  <thead>\n",
              "    <tr style=\"text-align: right;\">\n",
              "      <th></th>\n",
              "      <th>ph</th>\n",
              "      <th>Hardness</th>\n",
              "      <th>Solids</th>\n",
              "      <th>Chloramines</th>\n",
              "      <th>Sulfate</th>\n",
              "      <th>Conductivity</th>\n",
              "      <th>Organic_carbon</th>\n",
              "      <th>Trihalomethanes</th>\n",
              "      <th>Turbidity</th>\n",
              "    </tr>\n",
              "  </thead>\n",
              "  <tbody>\n",
              "    <tr>\n",
              "      <th>0</th>\n",
              "      <td>-0.026271</td>\n",
              "      <td>0.259195</td>\n",
              "      <td>-0.139471</td>\n",
              "      <td>0.112415</td>\n",
              "      <td>0.967633</td>\n",
              "      <td>1.708954</td>\n",
              "      <td>-1.180651</td>\n",
              "      <td>1.305542</td>\n",
              "      <td>-1.286298</td>\n",
              "    </tr>\n",
              "    <tr>\n",
              "      <th>1</th>\n",
              "      <td>-2.284628</td>\n",
              "      <td>-2.036414</td>\n",
              "      <td>-0.385987</td>\n",
              "      <td>-0.307694</td>\n",
              "      <td>-0.004303</td>\n",
              "      <td>2.062575</td>\n",
              "      <td>0.270597</td>\n",
              "      <td>-0.639080</td>\n",
              "      <td>0.684218</td>\n",
              "    </tr>\n",
              "    <tr>\n",
              "      <th>2</th>\n",
              "      <td>0.697402</td>\n",
              "      <td>0.847665</td>\n",
              "      <td>-0.240047</td>\n",
              "      <td>1.360594</td>\n",
              "      <td>-0.004303</td>\n",
              "      <td>-0.094032</td>\n",
              "      <td>0.781117</td>\n",
              "      <td>0.000907</td>\n",
              "      <td>-1.167365</td>\n",
              "    </tr>\n",
              "    <tr>\n",
              "      <th>3</th>\n",
              "      <td>0.845476</td>\n",
              "      <td>0.547651</td>\n",
              "      <td>0.000493</td>\n",
              "      <td>0.592008</td>\n",
              "      <td>0.645832</td>\n",
              "      <td>-0.778830</td>\n",
              "      <td>1.255134</td>\n",
              "      <td>2.152263</td>\n",
              "      <td>0.848412</td>\n",
              "    </tr>\n",
              "    <tr>\n",
              "      <th>4</th>\n",
              "      <td>1.373063</td>\n",
              "      <td>-0.464429</td>\n",
              "      <td>-0.460249</td>\n",
              "      <td>-0.363698</td>\n",
              "      <td>-0.647713</td>\n",
              "      <td>-0.343939</td>\n",
              "      <td>-0.824357</td>\n",
              "      <td>-2.182193</td>\n",
              "      <td>0.138786</td>\n",
              "    </tr>\n",
              "  </tbody>\n",
              "</table>\n",
              "</div>\n",
              "      <button class=\"colab-df-convert\" onclick=\"convertToInteractive('df-6cee0b5b-1f2f-4ffc-b4b8-4b74bb6d0050')\"\n",
              "              title=\"Convert this dataframe to an interactive table.\"\n",
              "              style=\"display:none;\">\n",
              "        \n",
              "  <svg xmlns=\"http://www.w3.org/2000/svg\" height=\"24px\"viewBox=\"0 0 24 24\"\n",
              "       width=\"24px\">\n",
              "    <path d=\"M0 0h24v24H0V0z\" fill=\"none\"/>\n",
              "    <path d=\"M18.56 5.44l.94 2.06.94-2.06 2.06-.94-2.06-.94-.94-2.06-.94 2.06-2.06.94zm-11 1L8.5 8.5l.94-2.06 2.06-.94-2.06-.94L8.5 2.5l-.94 2.06-2.06.94zm10 10l.94 2.06.94-2.06 2.06-.94-2.06-.94-.94-2.06-.94 2.06-2.06.94z\"/><path d=\"M17.41 7.96l-1.37-1.37c-.4-.4-.92-.59-1.43-.59-.52 0-1.04.2-1.43.59L10.3 9.45l-7.72 7.72c-.78.78-.78 2.05 0 2.83L4 21.41c.39.39.9.59 1.41.59.51 0 1.02-.2 1.41-.59l7.78-7.78 2.81-2.81c.8-.78.8-2.07 0-2.86zM5.41 20L4 18.59l7.72-7.72 1.47 1.35L5.41 20z\"/>\n",
              "  </svg>\n",
              "      </button>\n",
              "      \n",
              "  <style>\n",
              "    .colab-df-container {\n",
              "      display:flex;\n",
              "      flex-wrap:wrap;\n",
              "      gap: 12px;\n",
              "    }\n",
              "\n",
              "    .colab-df-convert {\n",
              "      background-color: #E8F0FE;\n",
              "      border: none;\n",
              "      border-radius: 50%;\n",
              "      cursor: pointer;\n",
              "      display: none;\n",
              "      fill: #1967D2;\n",
              "      height: 32px;\n",
              "      padding: 0 0 0 0;\n",
              "      width: 32px;\n",
              "    }\n",
              "\n",
              "    .colab-df-convert:hover {\n",
              "      background-color: #E2EBFA;\n",
              "      box-shadow: 0px 1px 2px rgba(60, 64, 67, 0.3), 0px 1px 3px 1px rgba(60, 64, 67, 0.15);\n",
              "      fill: #174EA6;\n",
              "    }\n",
              "\n",
              "    [theme=dark] .colab-df-convert {\n",
              "      background-color: #3B4455;\n",
              "      fill: #D2E3FC;\n",
              "    }\n",
              "\n",
              "    [theme=dark] .colab-df-convert:hover {\n",
              "      background-color: #434B5C;\n",
              "      box-shadow: 0px 1px 3px 1px rgba(0, 0, 0, 0.15);\n",
              "      filter: drop-shadow(0px 1px 2px rgba(0, 0, 0, 0.3));\n",
              "      fill: #FFFFFF;\n",
              "    }\n",
              "  </style>\n",
              "\n",
              "      <script>\n",
              "        const buttonEl =\n",
              "          document.querySelector('#df-6cee0b5b-1f2f-4ffc-b4b8-4b74bb6d0050 button.colab-df-convert');\n",
              "        buttonEl.style.display =\n",
              "          google.colab.kernel.accessAllowed ? 'block' : 'none';\n",
              "\n",
              "        async function convertToInteractive(key) {\n",
              "          const element = document.querySelector('#df-6cee0b5b-1f2f-4ffc-b4b8-4b74bb6d0050');\n",
              "          const dataTable =\n",
              "            await google.colab.kernel.invokeFunction('convertToInteractive',\n",
              "                                                     [key], {});\n",
              "          if (!dataTable) return;\n",
              "\n",
              "          const docLinkHtml = 'Like what you see? Visit the ' +\n",
              "            '<a target=\"_blank\" href=https://colab.research.google.com/notebooks/data_table.ipynb>data table notebook</a>'\n",
              "            + ' to learn more about interactive tables.';\n",
              "          element.innerHTML = '';\n",
              "          dataTable['output_type'] = 'display_data';\n",
              "          await google.colab.output.renderOutput(dataTable, element);\n",
              "          const docLink = document.createElement('div');\n",
              "          docLink.innerHTML = docLinkHtml;\n",
              "          element.appendChild(docLink);\n",
              "        }\n",
              "      </script>\n",
              "    </div>\n",
              "  </div>\n",
              "  "
            ]
          },
          "metadata": {},
          "execution_count": 120
        }
      ]
    },
    {
      "cell_type": "code",
      "source": [
        "x.describe()"
      ],
      "metadata": {
        "colab": {
          "base_uri": "https://localhost:8080/",
          "height": 300
        },
        "id": "aIR_C5exGFf_",
        "outputId": "637e88aa-aee0-44e4-f292-1e4dc9d1cc05"
      },
      "id": "aIR_C5exGFf_",
      "execution_count": null,
      "outputs": [
        {
          "output_type": "execute_result",
          "data": {
            "text/plain": [
              "                 ph      Hardness        Solids   Chloramines       Sulfate  \\\n",
              "count  3.276000e+03  3.276000e+03  3.276000e+03  3.276000e+03  3.276000e+03   \n",
              "mean   1.019060e-16  1.072508e-15 -4.714042e-17  5.111482e-16  1.636024e-15   \n",
              "std    1.000153e+00  1.000153e+00  1.000153e+00  1.000153e+00  1.000153e+00   \n",
              "min   -4.812885e+00 -4.530454e+00 -2.474344e+00 -4.277288e+00 -5.659588e+00   \n",
              "25%   -5.418332e-01 -5.937372e-01 -7.239916e-01 -6.285247e-01 -4.551658e-01   \n",
              "50%   -2.627108e-02  1.819424e-02 -1.238999e-01  5.068209e-03 -4.302620e-03   \n",
              "75%    5.415501e-01  6.174333e-01  6.066532e-01  6.271058e-01  4.659717e-01   \n",
              "max    4.712098e+00  3.855680e+00  4.472689e+00  3.793631e+00  4.080807e+00   \n",
              "\n",
              "       Conductivity  Organic_carbon  Trihalomethanes     Turbidity  \n",
              "count  3.276000e+03    3.276000e+03     3.276000e+03  3.276000e+03  \n",
              "mean   1.835460e-16    3.372014e-17    -3.894592e-16  5.387089e-16  \n",
              "std    1.000153e+00    1.000153e+00     1.000153e+00  1.000153e+00  \n",
              "min   -3.028290e+00   -3.653635e+00    -4.164747e+00 -3.225560e+00  \n",
              "25%   -7.482911e-01   -6.709187e-01    -6.188751e-01 -6.755095e-01  \n",
              "50%   -5.345935e-02   -2.014487e-02     8.651097e-03 -1.507005e-02  \n",
              "75%    6.878605e-01    6.870970e-01     6.507560e-01  6.837866e-01  \n",
              "max    4.048144e+00    4.237147e+00     3.652708e+00  3.552921e+00  "
            ],
            "text/html": [
              "\n",
              "  <div id=\"df-c2ecfb08-958d-48b5-9ac1-4ed72727a0b2\">\n",
              "    <div class=\"colab-df-container\">\n",
              "      <div>\n",
              "<style scoped>\n",
              "    .dataframe tbody tr th:only-of-type {\n",
              "        vertical-align: middle;\n",
              "    }\n",
              "\n",
              "    .dataframe tbody tr th {\n",
              "        vertical-align: top;\n",
              "    }\n",
              "\n",
              "    .dataframe thead th {\n",
              "        text-align: right;\n",
              "    }\n",
              "</style>\n",
              "<table border=\"1\" class=\"dataframe\">\n",
              "  <thead>\n",
              "    <tr style=\"text-align: right;\">\n",
              "      <th></th>\n",
              "      <th>ph</th>\n",
              "      <th>Hardness</th>\n",
              "      <th>Solids</th>\n",
              "      <th>Chloramines</th>\n",
              "      <th>Sulfate</th>\n",
              "      <th>Conductivity</th>\n",
              "      <th>Organic_carbon</th>\n",
              "      <th>Trihalomethanes</th>\n",
              "      <th>Turbidity</th>\n",
              "    </tr>\n",
              "  </thead>\n",
              "  <tbody>\n",
              "    <tr>\n",
              "      <th>count</th>\n",
              "      <td>3.276000e+03</td>\n",
              "      <td>3.276000e+03</td>\n",
              "      <td>3.276000e+03</td>\n",
              "      <td>3.276000e+03</td>\n",
              "      <td>3.276000e+03</td>\n",
              "      <td>3.276000e+03</td>\n",
              "      <td>3.276000e+03</td>\n",
              "      <td>3.276000e+03</td>\n",
              "      <td>3.276000e+03</td>\n",
              "    </tr>\n",
              "    <tr>\n",
              "      <th>mean</th>\n",
              "      <td>1.019060e-16</td>\n",
              "      <td>1.072508e-15</td>\n",
              "      <td>-4.714042e-17</td>\n",
              "      <td>5.111482e-16</td>\n",
              "      <td>1.636024e-15</td>\n",
              "      <td>1.835460e-16</td>\n",
              "      <td>3.372014e-17</td>\n",
              "      <td>-3.894592e-16</td>\n",
              "      <td>5.387089e-16</td>\n",
              "    </tr>\n",
              "    <tr>\n",
              "      <th>std</th>\n",
              "      <td>1.000153e+00</td>\n",
              "      <td>1.000153e+00</td>\n",
              "      <td>1.000153e+00</td>\n",
              "      <td>1.000153e+00</td>\n",
              "      <td>1.000153e+00</td>\n",
              "      <td>1.000153e+00</td>\n",
              "      <td>1.000153e+00</td>\n",
              "      <td>1.000153e+00</td>\n",
              "      <td>1.000153e+00</td>\n",
              "    </tr>\n",
              "    <tr>\n",
              "      <th>min</th>\n",
              "      <td>-4.812885e+00</td>\n",
              "      <td>-4.530454e+00</td>\n",
              "      <td>-2.474344e+00</td>\n",
              "      <td>-4.277288e+00</td>\n",
              "      <td>-5.659588e+00</td>\n",
              "      <td>-3.028290e+00</td>\n",
              "      <td>-3.653635e+00</td>\n",
              "      <td>-4.164747e+00</td>\n",
              "      <td>-3.225560e+00</td>\n",
              "    </tr>\n",
              "    <tr>\n",
              "      <th>25%</th>\n",
              "      <td>-5.418332e-01</td>\n",
              "      <td>-5.937372e-01</td>\n",
              "      <td>-7.239916e-01</td>\n",
              "      <td>-6.285247e-01</td>\n",
              "      <td>-4.551658e-01</td>\n",
              "      <td>-7.482911e-01</td>\n",
              "      <td>-6.709187e-01</td>\n",
              "      <td>-6.188751e-01</td>\n",
              "      <td>-6.755095e-01</td>\n",
              "    </tr>\n",
              "    <tr>\n",
              "      <th>50%</th>\n",
              "      <td>-2.627108e-02</td>\n",
              "      <td>1.819424e-02</td>\n",
              "      <td>-1.238999e-01</td>\n",
              "      <td>5.068209e-03</td>\n",
              "      <td>-4.302620e-03</td>\n",
              "      <td>-5.345935e-02</td>\n",
              "      <td>-2.014487e-02</td>\n",
              "      <td>8.651097e-03</td>\n",
              "      <td>-1.507005e-02</td>\n",
              "    </tr>\n",
              "    <tr>\n",
              "      <th>75%</th>\n",
              "      <td>5.415501e-01</td>\n",
              "      <td>6.174333e-01</td>\n",
              "      <td>6.066532e-01</td>\n",
              "      <td>6.271058e-01</td>\n",
              "      <td>4.659717e-01</td>\n",
              "      <td>6.878605e-01</td>\n",
              "      <td>6.870970e-01</td>\n",
              "      <td>6.507560e-01</td>\n",
              "      <td>6.837866e-01</td>\n",
              "    </tr>\n",
              "    <tr>\n",
              "      <th>max</th>\n",
              "      <td>4.712098e+00</td>\n",
              "      <td>3.855680e+00</td>\n",
              "      <td>4.472689e+00</td>\n",
              "      <td>3.793631e+00</td>\n",
              "      <td>4.080807e+00</td>\n",
              "      <td>4.048144e+00</td>\n",
              "      <td>4.237147e+00</td>\n",
              "      <td>3.652708e+00</td>\n",
              "      <td>3.552921e+00</td>\n",
              "    </tr>\n",
              "  </tbody>\n",
              "</table>\n",
              "</div>\n",
              "      <button class=\"colab-df-convert\" onclick=\"convertToInteractive('df-c2ecfb08-958d-48b5-9ac1-4ed72727a0b2')\"\n",
              "              title=\"Convert this dataframe to an interactive table.\"\n",
              "              style=\"display:none;\">\n",
              "        \n",
              "  <svg xmlns=\"http://www.w3.org/2000/svg\" height=\"24px\"viewBox=\"0 0 24 24\"\n",
              "       width=\"24px\">\n",
              "    <path d=\"M0 0h24v24H0V0z\" fill=\"none\"/>\n",
              "    <path d=\"M18.56 5.44l.94 2.06.94-2.06 2.06-.94-2.06-.94-.94-2.06-.94 2.06-2.06.94zm-11 1L8.5 8.5l.94-2.06 2.06-.94-2.06-.94L8.5 2.5l-.94 2.06-2.06.94zm10 10l.94 2.06.94-2.06 2.06-.94-2.06-.94-.94-2.06-.94 2.06-2.06.94z\"/><path d=\"M17.41 7.96l-1.37-1.37c-.4-.4-.92-.59-1.43-.59-.52 0-1.04.2-1.43.59L10.3 9.45l-7.72 7.72c-.78.78-.78 2.05 0 2.83L4 21.41c.39.39.9.59 1.41.59.51 0 1.02-.2 1.41-.59l7.78-7.78 2.81-2.81c.8-.78.8-2.07 0-2.86zM5.41 20L4 18.59l7.72-7.72 1.47 1.35L5.41 20z\"/>\n",
              "  </svg>\n",
              "      </button>\n",
              "      \n",
              "  <style>\n",
              "    .colab-df-container {\n",
              "      display:flex;\n",
              "      flex-wrap:wrap;\n",
              "      gap: 12px;\n",
              "    }\n",
              "\n",
              "    .colab-df-convert {\n",
              "      background-color: #E8F0FE;\n",
              "      border: none;\n",
              "      border-radius: 50%;\n",
              "      cursor: pointer;\n",
              "      display: none;\n",
              "      fill: #1967D2;\n",
              "      height: 32px;\n",
              "      padding: 0 0 0 0;\n",
              "      width: 32px;\n",
              "    }\n",
              "\n",
              "    .colab-df-convert:hover {\n",
              "      background-color: #E2EBFA;\n",
              "      box-shadow: 0px 1px 2px rgba(60, 64, 67, 0.3), 0px 1px 3px 1px rgba(60, 64, 67, 0.15);\n",
              "      fill: #174EA6;\n",
              "    }\n",
              "\n",
              "    [theme=dark] .colab-df-convert {\n",
              "      background-color: #3B4455;\n",
              "      fill: #D2E3FC;\n",
              "    }\n",
              "\n",
              "    [theme=dark] .colab-df-convert:hover {\n",
              "      background-color: #434B5C;\n",
              "      box-shadow: 0px 1px 3px 1px rgba(0, 0, 0, 0.15);\n",
              "      filter: drop-shadow(0px 1px 2px rgba(0, 0, 0, 0.3));\n",
              "      fill: #FFFFFF;\n",
              "    }\n",
              "  </style>\n",
              "\n",
              "      <script>\n",
              "        const buttonEl =\n",
              "          document.querySelector('#df-c2ecfb08-958d-48b5-9ac1-4ed72727a0b2 button.colab-df-convert');\n",
              "        buttonEl.style.display =\n",
              "          google.colab.kernel.accessAllowed ? 'block' : 'none';\n",
              "\n",
              "        async function convertToInteractive(key) {\n",
              "          const element = document.querySelector('#df-c2ecfb08-958d-48b5-9ac1-4ed72727a0b2');\n",
              "          const dataTable =\n",
              "            await google.colab.kernel.invokeFunction('convertToInteractive',\n",
              "                                                     [key], {});\n",
              "          if (!dataTable) return;\n",
              "\n",
              "          const docLinkHtml = 'Like what you see? Visit the ' +\n",
              "            '<a target=\"_blank\" href=https://colab.research.google.com/notebooks/data_table.ipynb>data table notebook</a>'\n",
              "            + ' to learn more about interactive tables.';\n",
              "          element.innerHTML = '';\n",
              "          dataTable['output_type'] = 'display_data';\n",
              "          await google.colab.output.renderOutput(dataTable, element);\n",
              "          const docLink = document.createElement('div');\n",
              "          docLink.innerHTML = docLinkHtml;\n",
              "          element.appendChild(docLink);\n",
              "        }\n",
              "      </script>\n",
              "    </div>\n",
              "  </div>\n",
              "  "
            ]
          },
          "metadata": {},
          "execution_count": 121
        }
      ]
    },
    {
      "cell_type": "code",
      "source": [
        "X_train, X_test, y_train, y_test = train_test_split(x,y, test_size = 0.2, random_state = 0)"
      ],
      "metadata": {
        "id": "OI3pWTYf4pB4"
      },
      "id": "OI3pWTYf4pB4",
      "execution_count": null,
      "outputs": []
    },
    {
      "cell_type": "code",
      "source": [
        "X_train.shape"
      ],
      "metadata": {
        "colab": {
          "base_uri": "https://localhost:8080/"
        },
        "id": "qyLjL4w54qWf",
        "outputId": "aedb5ca7-4351-4d79-aad1-61057f878e37"
      },
      "id": "qyLjL4w54qWf",
      "execution_count": null,
      "outputs": [
        {
          "output_type": "execute_result",
          "data": {
            "text/plain": [
              "(2620, 9)"
            ]
          },
          "metadata": {},
          "execution_count": 123
        }
      ]
    },
    {
      "cell_type": "code",
      "source": [
        "model = Sequential()\n",
        "\n",
        "model.add(Dense(64, activation='relu', kernel_initializer='random_normal', input_dim=9))\n",
        "\n",
        "model.add(BatchNormalization())\n",
        "\n",
        "model.add(Dense(32, activation='relu', kernel_initializer='random_normal'))\n",
        "\n",
        "model.add(Dense(16, activation='relu', kernel_initializer='random_normal'))\n",
        "\n",
        "model.add(Dropout(0.5))\n",
        "\n",
        "model.add(Dense(1, activation='sigmoid', kernel_initializer='random_normal'))"
      ],
      "metadata": {
        "id": "_k2wFcTw4qQq"
      },
      "id": "_k2wFcTw4qQq",
      "execution_count": null,
      "outputs": []
    },
    {
      "cell_type": "code",
      "source": [
        "model.compile(optimizer ='adam',loss='binary_crossentropy', metrics =['accuracy'])"
      ],
      "metadata": {
        "id": "mVdsEoBT4qJO"
      },
      "id": "mVdsEoBT4qJO",
      "execution_count": null,
      "outputs": []
    },
    {
      "cell_type": "code",
      "source": [
        "model.summary()"
      ],
      "metadata": {
        "colab": {
          "base_uri": "https://localhost:8080/"
        },
        "id": "kFq6RxY_4p_F",
        "outputId": "df51c404-ab91-4057-843d-0d811b7e5beb"
      },
      "id": "kFq6RxY_4p_F",
      "execution_count": null,
      "outputs": [
        {
          "output_type": "stream",
          "name": "stdout",
          "text": [
            "Model: \"sequential_2\"\n",
            "_________________________________________________________________\n",
            " Layer (type)                Output Shape              Param #   \n",
            "=================================================================\n",
            " dense_8 (Dense)             (None, 64)                640       \n",
            "                                                                 \n",
            " batch_normalization_2 (Batc  (None, 64)               256       \n",
            " hNormalization)                                                 \n",
            "                                                                 \n",
            " dense_9 (Dense)             (None, 32)                2080      \n",
            "                                                                 \n",
            " dense_10 (Dense)            (None, 16)                528       \n",
            "                                                                 \n",
            " dropout_2 (Dropout)         (None, 16)                0         \n",
            "                                                                 \n",
            " dense_11 (Dense)            (None, 1)                 17        \n",
            "                                                                 \n",
            "=================================================================\n",
            "Total params: 3,521\n",
            "Trainable params: 3,393\n",
            "Non-trainable params: 128\n",
            "_________________________________________________________________\n"
          ]
        }
      ]
    },
    {
      "cell_type": "code",
      "source": [
        "history=model.fit(X_train,y_train, batch_size=32, epochs=150, validation_data =(X_test,y_test))"
      ],
      "metadata": {
        "colab": {
          "base_uri": "https://localhost:8080/"
        },
        "id": "L82QU3KD5Fdq",
        "outputId": "cc93ffe4-c27f-4313-f7c1-bace6a91c343"
      },
      "id": "L82QU3KD5Fdq",
      "execution_count": null,
      "outputs": [
        {
          "output_type": "stream",
          "name": "stdout",
          "text": [
            "Epoch 1/150\n",
            "82/82 [==============================] - 1s 6ms/step - loss: 0.6836 - accuracy: 0.5920 - val_loss: 0.6783 - val_accuracy: 0.6280\n",
            "Epoch 2/150\n",
            "82/82 [==============================] - 0s 4ms/step - loss: 0.6505 - accuracy: 0.6179 - val_loss: 0.6606 - val_accuracy: 0.6479\n",
            "Epoch 3/150\n",
            "82/82 [==============================] - 0s 4ms/step - loss: 0.6235 - accuracy: 0.6626 - val_loss: 0.6385 - val_accuracy: 0.6845\n",
            "Epoch 4/150\n",
            "82/82 [==============================] - 0s 4ms/step - loss: 0.6119 - accuracy: 0.6695 - val_loss: 0.6336 - val_accuracy: 0.6738\n",
            "Epoch 5/150\n",
            "82/82 [==============================] - 0s 4ms/step - loss: 0.6013 - accuracy: 0.6798 - val_loss: 0.6106 - val_accuracy: 0.6890\n",
            "Epoch 6/150\n",
            "82/82 [==============================] - 0s 4ms/step - loss: 0.5966 - accuracy: 0.6836 - val_loss: 0.6064 - val_accuracy: 0.6860\n",
            "Epoch 7/150\n",
            "82/82 [==============================] - 0s 4ms/step - loss: 0.5861 - accuracy: 0.6962 - val_loss: 0.6060 - val_accuracy: 0.6860\n",
            "Epoch 8/150\n",
            "82/82 [==============================] - 0s 4ms/step - loss: 0.5925 - accuracy: 0.6885 - val_loss: 0.6061 - val_accuracy: 0.6753\n",
            "Epoch 9/150\n",
            "82/82 [==============================] - 0s 4ms/step - loss: 0.5885 - accuracy: 0.6939 - val_loss: 0.6151 - val_accuracy: 0.6524\n",
            "Epoch 10/150\n",
            "82/82 [==============================] - 0s 4ms/step - loss: 0.5880 - accuracy: 0.6950 - val_loss: 0.6050 - val_accuracy: 0.6875\n",
            "Epoch 11/150\n",
            "82/82 [==============================] - 0s 4ms/step - loss: 0.5772 - accuracy: 0.7065 - val_loss: 0.6079 - val_accuracy: 0.6753\n",
            "Epoch 12/150\n",
            "82/82 [==============================] - 0s 4ms/step - loss: 0.5714 - accuracy: 0.7107 - val_loss: 0.6082 - val_accuracy: 0.6829\n",
            "Epoch 13/150\n",
            "82/82 [==============================] - 0s 4ms/step - loss: 0.5623 - accuracy: 0.7176 - val_loss: 0.6194 - val_accuracy: 0.6723\n",
            "Epoch 14/150\n",
            "82/82 [==============================] - 0s 4ms/step - loss: 0.5653 - accuracy: 0.7149 - val_loss: 0.6213 - val_accuracy: 0.6723\n",
            "Epoch 15/150\n",
            "82/82 [==============================] - 0s 4ms/step - loss: 0.5631 - accuracy: 0.7130 - val_loss: 0.6056 - val_accuracy: 0.6677\n",
            "Epoch 16/150\n",
            "82/82 [==============================] - 0s 4ms/step - loss: 0.5579 - accuracy: 0.7156 - val_loss: 0.6199 - val_accuracy: 0.6723\n",
            "Epoch 17/150\n",
            "82/82 [==============================] - 0s 4ms/step - loss: 0.5547 - accuracy: 0.7248 - val_loss: 0.6204 - val_accuracy: 0.6723\n",
            "Epoch 18/150\n",
            "82/82 [==============================] - 0s 4ms/step - loss: 0.5577 - accuracy: 0.7164 - val_loss: 0.6192 - val_accuracy: 0.6784\n",
            "Epoch 19/150\n",
            "82/82 [==============================] - 0s 4ms/step - loss: 0.5487 - accuracy: 0.7191 - val_loss: 0.6139 - val_accuracy: 0.6662\n",
            "Epoch 20/150\n",
            "82/82 [==============================] - 0s 4ms/step - loss: 0.5520 - accuracy: 0.7267 - val_loss: 0.6176 - val_accuracy: 0.6677\n",
            "Epoch 21/150\n",
            "82/82 [==============================] - 0s 4ms/step - loss: 0.5444 - accuracy: 0.7294 - val_loss: 0.6142 - val_accuracy: 0.6677\n",
            "Epoch 22/150\n",
            "82/82 [==============================] - 0s 4ms/step - loss: 0.5476 - accuracy: 0.7244 - val_loss: 0.6221 - val_accuracy: 0.6662\n",
            "Epoch 23/150\n",
            "82/82 [==============================] - 0s 5ms/step - loss: 0.5449 - accuracy: 0.7294 - val_loss: 0.6131 - val_accuracy: 0.6707\n",
            "Epoch 24/150\n",
            "82/82 [==============================] - 0s 4ms/step - loss: 0.5297 - accuracy: 0.7454 - val_loss: 0.6283 - val_accuracy: 0.6540\n",
            "Epoch 25/150\n",
            "82/82 [==============================] - 0s 4ms/step - loss: 0.5294 - accuracy: 0.7443 - val_loss: 0.6342 - val_accuracy: 0.6601\n",
            "Epoch 26/150\n",
            "82/82 [==============================] - 0s 4ms/step - loss: 0.5334 - accuracy: 0.7374 - val_loss: 0.6264 - val_accuracy: 0.6601\n",
            "Epoch 27/150\n",
            "82/82 [==============================] - 0s 4ms/step - loss: 0.5270 - accuracy: 0.7416 - val_loss: 0.6234 - val_accuracy: 0.6662\n",
            "Epoch 28/150\n",
            "82/82 [==============================] - 0s 4ms/step - loss: 0.5256 - accuracy: 0.7393 - val_loss: 0.6428 - val_accuracy: 0.6570\n",
            "Epoch 29/150\n",
            "82/82 [==============================] - 0s 4ms/step - loss: 0.5195 - accuracy: 0.7469 - val_loss: 0.6344 - val_accuracy: 0.6616\n",
            "Epoch 30/150\n",
            "82/82 [==============================] - 0s 4ms/step - loss: 0.5293 - accuracy: 0.7485 - val_loss: 0.6305 - val_accuracy: 0.6646\n",
            "Epoch 31/150\n",
            "82/82 [==============================] - 0s 4ms/step - loss: 0.5067 - accuracy: 0.7584 - val_loss: 0.6361 - val_accuracy: 0.6692\n",
            "Epoch 32/150\n",
            "82/82 [==============================] - 0s 4ms/step - loss: 0.5093 - accuracy: 0.7531 - val_loss: 0.6500 - val_accuracy: 0.6524\n",
            "Epoch 33/150\n",
            "82/82 [==============================] - 0s 4ms/step - loss: 0.5121 - accuracy: 0.7500 - val_loss: 0.6377 - val_accuracy: 0.6616\n",
            "Epoch 34/150\n",
            "82/82 [==============================] - 0s 4ms/step - loss: 0.5020 - accuracy: 0.7595 - val_loss: 0.6461 - val_accuracy: 0.6799\n",
            "Epoch 35/150\n",
            "82/82 [==============================] - 0s 4ms/step - loss: 0.4984 - accuracy: 0.7706 - val_loss: 0.6617 - val_accuracy: 0.6601\n",
            "Epoch 36/150\n",
            "82/82 [==============================] - 0s 4ms/step - loss: 0.4991 - accuracy: 0.7580 - val_loss: 0.6511 - val_accuracy: 0.6662\n",
            "Epoch 37/150\n",
            "82/82 [==============================] - 0s 4ms/step - loss: 0.5078 - accuracy: 0.7569 - val_loss: 0.6482 - val_accuracy: 0.6585\n",
            "Epoch 38/150\n",
            "82/82 [==============================] - 0s 4ms/step - loss: 0.4848 - accuracy: 0.7607 - val_loss: 0.6460 - val_accuracy: 0.6601\n",
            "Epoch 39/150\n",
            "82/82 [==============================] - 0s 4ms/step - loss: 0.4884 - accuracy: 0.7729 - val_loss: 0.6570 - val_accuracy: 0.6753\n",
            "Epoch 40/150\n",
            "82/82 [==============================] - 0s 4ms/step - loss: 0.4936 - accuracy: 0.7706 - val_loss: 0.6640 - val_accuracy: 0.6631\n",
            "Epoch 41/150\n",
            "82/82 [==============================] - 0s 4ms/step - loss: 0.4942 - accuracy: 0.7695 - val_loss: 0.6509 - val_accuracy: 0.6677\n",
            "Epoch 42/150\n",
            "82/82 [==============================] - 0s 4ms/step - loss: 0.4826 - accuracy: 0.7752 - val_loss: 0.6861 - val_accuracy: 0.6646\n",
            "Epoch 43/150\n",
            "82/82 [==============================] - 0s 4ms/step - loss: 0.4738 - accuracy: 0.7805 - val_loss: 0.6544 - val_accuracy: 0.6662\n",
            "Epoch 44/150\n",
            "82/82 [==============================] - 0s 4ms/step - loss: 0.4674 - accuracy: 0.7840 - val_loss: 0.6846 - val_accuracy: 0.6555\n",
            "Epoch 45/150\n",
            "82/82 [==============================] - 0s 4ms/step - loss: 0.4629 - accuracy: 0.7832 - val_loss: 0.6766 - val_accuracy: 0.6616\n",
            "Epoch 46/150\n",
            "82/82 [==============================] - 0s 4ms/step - loss: 0.4693 - accuracy: 0.7844 - val_loss: 0.6676 - val_accuracy: 0.6555\n",
            "Epoch 47/150\n",
            "82/82 [==============================] - 0s 4ms/step - loss: 0.4662 - accuracy: 0.7844 - val_loss: 0.6729 - val_accuracy: 0.6555\n",
            "Epoch 48/150\n",
            "82/82 [==============================] - 0s 4ms/step - loss: 0.4523 - accuracy: 0.7981 - val_loss: 0.6805 - val_accuracy: 0.6631\n",
            "Epoch 49/150\n",
            "82/82 [==============================] - 0s 4ms/step - loss: 0.4690 - accuracy: 0.7817 - val_loss: 0.6917 - val_accuracy: 0.6616\n",
            "Epoch 50/150\n",
            "82/82 [==============================] - 0s 4ms/step - loss: 0.4519 - accuracy: 0.7897 - val_loss: 0.6848 - val_accuracy: 0.6601\n",
            "Epoch 51/150\n",
            "82/82 [==============================] - 0s 4ms/step - loss: 0.4515 - accuracy: 0.8008 - val_loss: 0.7084 - val_accuracy: 0.6662\n",
            "Epoch 52/150\n",
            "82/82 [==============================] - 0s 4ms/step - loss: 0.4416 - accuracy: 0.7981 - val_loss: 0.7168 - val_accuracy: 0.6784\n",
            "Epoch 53/150\n",
            "82/82 [==============================] - 0s 4ms/step - loss: 0.4472 - accuracy: 0.7924 - val_loss: 0.6803 - val_accuracy: 0.6677\n",
            "Epoch 54/150\n",
            "82/82 [==============================] - 0s 4ms/step - loss: 0.4451 - accuracy: 0.8046 - val_loss: 0.7077 - val_accuracy: 0.6601\n",
            "Epoch 55/150\n",
            "82/82 [==============================] - 0s 4ms/step - loss: 0.4442 - accuracy: 0.8008 - val_loss: 0.6992 - val_accuracy: 0.6570\n",
            "Epoch 56/150\n",
            "82/82 [==============================] - 0s 4ms/step - loss: 0.4324 - accuracy: 0.8046 - val_loss: 0.7405 - val_accuracy: 0.6265\n",
            "Epoch 57/150\n",
            "82/82 [==============================] - 0s 4ms/step - loss: 0.4380 - accuracy: 0.7954 - val_loss: 0.7093 - val_accuracy: 0.6723\n",
            "Epoch 58/150\n",
            "82/82 [==============================] - 0s 5ms/step - loss: 0.4249 - accuracy: 0.8065 - val_loss: 0.7179 - val_accuracy: 0.6646\n",
            "Epoch 59/150\n",
            "82/82 [==============================] - 0s 4ms/step - loss: 0.4386 - accuracy: 0.8042 - val_loss: 0.7043 - val_accuracy: 0.6555\n",
            "Epoch 60/150\n",
            "82/82 [==============================] - 0s 4ms/step - loss: 0.4353 - accuracy: 0.8092 - val_loss: 0.7175 - val_accuracy: 0.6296\n",
            "Epoch 61/150\n",
            "82/82 [==============================] - 0s 4ms/step - loss: 0.4326 - accuracy: 0.8019 - val_loss: 0.7343 - val_accuracy: 0.6463\n",
            "Epoch 62/150\n",
            "82/82 [==============================] - 0s 4ms/step - loss: 0.4283 - accuracy: 0.8069 - val_loss: 0.7391 - val_accuracy: 0.6585\n",
            "Epoch 63/150\n",
            "82/82 [==============================] - 0s 4ms/step - loss: 0.4395 - accuracy: 0.8053 - val_loss: 0.6981 - val_accuracy: 0.6601\n",
            "Epoch 64/150\n",
            "82/82 [==============================] - 0s 4ms/step - loss: 0.4244 - accuracy: 0.8145 - val_loss: 0.7222 - val_accuracy: 0.6341\n",
            "Epoch 65/150\n",
            "82/82 [==============================] - 0s 4ms/step - loss: 0.4203 - accuracy: 0.8145 - val_loss: 0.7402 - val_accuracy: 0.6555\n",
            "Epoch 66/150\n",
            "82/82 [==============================] - 0s 4ms/step - loss: 0.4377 - accuracy: 0.8092 - val_loss: 0.7179 - val_accuracy: 0.6524\n",
            "Epoch 67/150\n",
            "82/82 [==============================] - 0s 4ms/step - loss: 0.4139 - accuracy: 0.8183 - val_loss: 0.7297 - val_accuracy: 0.6524\n",
            "Epoch 68/150\n",
            "82/82 [==============================] - 0s 4ms/step - loss: 0.4161 - accuracy: 0.8153 - val_loss: 0.7373 - val_accuracy: 0.6540\n",
            "Epoch 69/150\n",
            "82/82 [==============================] - 0s 4ms/step - loss: 0.4197 - accuracy: 0.8149 - val_loss: 0.7153 - val_accuracy: 0.6601\n",
            "Epoch 70/150\n",
            "82/82 [==============================] - 0s 4ms/step - loss: 0.4152 - accuracy: 0.8141 - val_loss: 0.7366 - val_accuracy: 0.6631\n",
            "Epoch 71/150\n",
            "82/82 [==============================] - 0s 4ms/step - loss: 0.3964 - accuracy: 0.8206 - val_loss: 0.7652 - val_accuracy: 0.6662\n",
            "Epoch 72/150\n",
            "82/82 [==============================] - 0s 4ms/step - loss: 0.4043 - accuracy: 0.8229 - val_loss: 0.7525 - val_accuracy: 0.6387\n",
            "Epoch 73/150\n",
            "82/82 [==============================] - 0s 4ms/step - loss: 0.4081 - accuracy: 0.8107 - val_loss: 0.7270 - val_accuracy: 0.6524\n",
            "Epoch 74/150\n",
            "82/82 [==============================] - 0s 4ms/step - loss: 0.3986 - accuracy: 0.8191 - val_loss: 0.7672 - val_accuracy: 0.6402\n",
            "Epoch 75/150\n",
            "82/82 [==============================] - 0s 4ms/step - loss: 0.4154 - accuracy: 0.8187 - val_loss: 0.7348 - val_accuracy: 0.6601\n",
            "Epoch 76/150\n",
            "82/82 [==============================] - 0s 4ms/step - loss: 0.3953 - accuracy: 0.8275 - val_loss: 0.7278 - val_accuracy: 0.6646\n",
            "Epoch 77/150\n",
            "82/82 [==============================] - 0s 4ms/step - loss: 0.4008 - accuracy: 0.8267 - val_loss: 0.7547 - val_accuracy: 0.6494\n",
            "Epoch 78/150\n",
            "82/82 [==============================] - 0s 4ms/step - loss: 0.3943 - accuracy: 0.8210 - val_loss: 0.7766 - val_accuracy: 0.6646\n",
            "Epoch 79/150\n",
            "82/82 [==============================] - 0s 4ms/step - loss: 0.4018 - accuracy: 0.8218 - val_loss: 0.7517 - val_accuracy: 0.6463\n",
            "Epoch 80/150\n",
            "82/82 [==============================] - 0s 4ms/step - loss: 0.3931 - accuracy: 0.8317 - val_loss: 0.7463 - val_accuracy: 0.6524\n",
            "Epoch 81/150\n",
            "82/82 [==============================] - 0s 4ms/step - loss: 0.4007 - accuracy: 0.8302 - val_loss: 0.7692 - val_accuracy: 0.6509\n",
            "Epoch 82/150\n",
            "82/82 [==============================] - 0s 5ms/step - loss: 0.3961 - accuracy: 0.8225 - val_loss: 0.7591 - val_accuracy: 0.6662\n",
            "Epoch 83/150\n",
            "82/82 [==============================] - 0s 4ms/step - loss: 0.3916 - accuracy: 0.8324 - val_loss: 0.7575 - val_accuracy: 0.6570\n",
            "Epoch 84/150\n",
            "82/82 [==============================] - 0s 4ms/step - loss: 0.3941 - accuracy: 0.8218 - val_loss: 0.7768 - val_accuracy: 0.6555\n",
            "Epoch 85/150\n",
            "82/82 [==============================] - 0s 4ms/step - loss: 0.3892 - accuracy: 0.8244 - val_loss: 0.7793 - val_accuracy: 0.6341\n",
            "Epoch 86/150\n",
            "82/82 [==============================] - 0s 4ms/step - loss: 0.3694 - accuracy: 0.8382 - val_loss: 0.7713 - val_accuracy: 0.6540\n",
            "Epoch 87/150\n",
            "82/82 [==============================] - 0s 4ms/step - loss: 0.3836 - accuracy: 0.8294 - val_loss: 0.7614 - val_accuracy: 0.6524\n",
            "Epoch 88/150\n",
            "82/82 [==============================] - 0s 4ms/step - loss: 0.3888 - accuracy: 0.8267 - val_loss: 0.7799 - val_accuracy: 0.6524\n",
            "Epoch 89/150\n",
            "82/82 [==============================] - 0s 4ms/step - loss: 0.3858 - accuracy: 0.8347 - val_loss: 0.7597 - val_accuracy: 0.6479\n",
            "Epoch 90/150\n",
            "82/82 [==============================] - 0s 4ms/step - loss: 0.3808 - accuracy: 0.8385 - val_loss: 0.7756 - val_accuracy: 0.6280\n",
            "Epoch 91/150\n",
            "82/82 [==============================] - 0s 4ms/step - loss: 0.3721 - accuracy: 0.8412 - val_loss: 0.8032 - val_accuracy: 0.6631\n",
            "Epoch 92/150\n",
            "82/82 [==============================] - 0s 4ms/step - loss: 0.3725 - accuracy: 0.8412 - val_loss: 0.7941 - val_accuracy: 0.6585\n",
            "Epoch 93/150\n",
            "82/82 [==============================] - 0s 4ms/step - loss: 0.3687 - accuracy: 0.8408 - val_loss: 0.7798 - val_accuracy: 0.6494\n",
            "Epoch 94/150\n",
            "82/82 [==============================] - 0s 4ms/step - loss: 0.3957 - accuracy: 0.8275 - val_loss: 0.7964 - val_accuracy: 0.6570\n",
            "Epoch 95/150\n",
            "82/82 [==============================] - 0s 4ms/step - loss: 0.3693 - accuracy: 0.8424 - val_loss: 0.8053 - val_accuracy: 0.6540\n",
            "Epoch 96/150\n",
            "82/82 [==============================] - 0s 4ms/step - loss: 0.3832 - accuracy: 0.8420 - val_loss: 0.8012 - val_accuracy: 0.6570\n",
            "Epoch 97/150\n",
            "82/82 [==============================] - 0s 4ms/step - loss: 0.3804 - accuracy: 0.8351 - val_loss: 0.7581 - val_accuracy: 0.6418\n",
            "Epoch 98/150\n",
            "82/82 [==============================] - 0s 4ms/step - loss: 0.3781 - accuracy: 0.8317 - val_loss: 0.7769 - val_accuracy: 0.6433\n",
            "Epoch 99/150\n",
            "82/82 [==============================] - 0s 4ms/step - loss: 0.3613 - accuracy: 0.8424 - val_loss: 0.7786 - val_accuracy: 0.6479\n",
            "Epoch 100/150\n",
            "82/82 [==============================] - 0s 4ms/step - loss: 0.3682 - accuracy: 0.8416 - val_loss: 0.8441 - val_accuracy: 0.6494\n",
            "Epoch 101/150\n",
            "82/82 [==============================] - 0s 4ms/step - loss: 0.3779 - accuracy: 0.8298 - val_loss: 0.8173 - val_accuracy: 0.6555\n",
            "Epoch 102/150\n",
            "82/82 [==============================] - 0s 5ms/step - loss: 0.3766 - accuracy: 0.8324 - val_loss: 0.7845 - val_accuracy: 0.6357\n",
            "Epoch 103/150\n",
            "82/82 [==============================] - 0s 4ms/step - loss: 0.3572 - accuracy: 0.8473 - val_loss: 0.8206 - val_accuracy: 0.6448\n",
            "Epoch 104/150\n",
            "82/82 [==============================] - 0s 4ms/step - loss: 0.3575 - accuracy: 0.8416 - val_loss: 0.8327 - val_accuracy: 0.6372\n",
            "Epoch 105/150\n",
            "82/82 [==============================] - 0s 4ms/step - loss: 0.3772 - accuracy: 0.8321 - val_loss: 0.7803 - val_accuracy: 0.6372\n",
            "Epoch 106/150\n",
            "82/82 [==============================] - 0s 4ms/step - loss: 0.3562 - accuracy: 0.8382 - val_loss: 0.8189 - val_accuracy: 0.6616\n",
            "Epoch 107/150\n",
            "82/82 [==============================] - 0s 4ms/step - loss: 0.3691 - accuracy: 0.8420 - val_loss: 0.8316 - val_accuracy: 0.6326\n",
            "Epoch 108/150\n",
            "82/82 [==============================] - 0s 4ms/step - loss: 0.3565 - accuracy: 0.8473 - val_loss: 0.8031 - val_accuracy: 0.6540\n",
            "Epoch 109/150\n",
            "82/82 [==============================] - 0s 4ms/step - loss: 0.3650 - accuracy: 0.8355 - val_loss: 0.8192 - val_accuracy: 0.6159\n",
            "Epoch 110/150\n",
            "82/82 [==============================] - 0s 4ms/step - loss: 0.3601 - accuracy: 0.8420 - val_loss: 0.8337 - val_accuracy: 0.6250\n",
            "Epoch 111/150\n",
            "82/82 [==============================] - 0s 4ms/step - loss: 0.3606 - accuracy: 0.8393 - val_loss: 0.8473 - val_accuracy: 0.6402\n",
            "Epoch 112/150\n",
            "82/82 [==============================] - 0s 4ms/step - loss: 0.3487 - accuracy: 0.8458 - val_loss: 0.8376 - val_accuracy: 0.6463\n",
            "Epoch 113/150\n",
            "82/82 [==============================] - 0s 4ms/step - loss: 0.3584 - accuracy: 0.8420 - val_loss: 0.8306 - val_accuracy: 0.6524\n",
            "Epoch 114/150\n",
            "82/82 [==============================] - 0s 4ms/step - loss: 0.3512 - accuracy: 0.8477 - val_loss: 0.8787 - val_accuracy: 0.6448\n",
            "Epoch 115/150\n",
            "82/82 [==============================] - 0s 4ms/step - loss: 0.3658 - accuracy: 0.8347 - val_loss: 0.8237 - val_accuracy: 0.6448\n",
            "Epoch 116/150\n",
            "82/82 [==============================] - 0s 4ms/step - loss: 0.3537 - accuracy: 0.8439 - val_loss: 0.8435 - val_accuracy: 0.6372\n",
            "Epoch 117/150\n",
            "82/82 [==============================] - 0s 4ms/step - loss: 0.3320 - accuracy: 0.8504 - val_loss: 0.8629 - val_accuracy: 0.6448\n",
            "Epoch 118/150\n",
            "82/82 [==============================] - 0s 4ms/step - loss: 0.3453 - accuracy: 0.8473 - val_loss: 0.8691 - val_accuracy: 0.6235\n",
            "Epoch 119/150\n",
            "82/82 [==============================] - 0s 4ms/step - loss: 0.3689 - accuracy: 0.8347 - val_loss: 0.8400 - val_accuracy: 0.6402\n",
            "Epoch 120/150\n",
            "82/82 [==============================] - 0s 4ms/step - loss: 0.3526 - accuracy: 0.8504 - val_loss: 0.8479 - val_accuracy: 0.6540\n",
            "Epoch 121/150\n",
            "82/82 [==============================] - 0s 4ms/step - loss: 0.3432 - accuracy: 0.8485 - val_loss: 0.8700 - val_accuracy: 0.6448\n",
            "Epoch 122/150\n",
            "82/82 [==============================] - 0s 4ms/step - loss: 0.3453 - accuracy: 0.8504 - val_loss: 0.8798 - val_accuracy: 0.6433\n",
            "Epoch 123/150\n",
            "82/82 [==============================] - 0s 4ms/step - loss: 0.3406 - accuracy: 0.8500 - val_loss: 0.8827 - val_accuracy: 0.6357\n",
            "Epoch 124/150\n",
            "82/82 [==============================] - 0s 4ms/step - loss: 0.3360 - accuracy: 0.8565 - val_loss: 0.8975 - val_accuracy: 0.6494\n",
            "Epoch 125/150\n",
            "82/82 [==============================] - 0s 4ms/step - loss: 0.3377 - accuracy: 0.8538 - val_loss: 0.8905 - val_accuracy: 0.6326\n",
            "Epoch 126/150\n",
            "82/82 [==============================] - 0s 4ms/step - loss: 0.3363 - accuracy: 0.8538 - val_loss: 0.8695 - val_accuracy: 0.6570\n",
            "Epoch 127/150\n",
            "82/82 [==============================] - 0s 4ms/step - loss: 0.3488 - accuracy: 0.8504 - val_loss: 0.9002 - val_accuracy: 0.6448\n",
            "Epoch 128/150\n",
            "82/82 [==============================] - 0s 4ms/step - loss: 0.3431 - accuracy: 0.8485 - val_loss: 0.8685 - val_accuracy: 0.6646\n",
            "Epoch 129/150\n",
            "82/82 [==============================] - 0s 4ms/step - loss: 0.3464 - accuracy: 0.8538 - val_loss: 0.8616 - val_accuracy: 0.6570\n",
            "Epoch 130/150\n",
            "82/82 [==============================] - 0s 4ms/step - loss: 0.3479 - accuracy: 0.8500 - val_loss: 0.8650 - val_accuracy: 0.6326\n",
            "Epoch 131/150\n",
            "82/82 [==============================] - 0s 4ms/step - loss: 0.3232 - accuracy: 0.8584 - val_loss: 0.9110 - val_accuracy: 0.6463\n",
            "Epoch 132/150\n",
            "82/82 [==============================] - 0s 4ms/step - loss: 0.3366 - accuracy: 0.8492 - val_loss: 0.8809 - val_accuracy: 0.6402\n",
            "Epoch 133/150\n",
            "82/82 [==============================] - 0s 4ms/step - loss: 0.3421 - accuracy: 0.8485 - val_loss: 0.8627 - val_accuracy: 0.6524\n",
            "Epoch 134/150\n",
            "82/82 [==============================] - 0s 4ms/step - loss: 0.3301 - accuracy: 0.8561 - val_loss: 0.8968 - val_accuracy: 0.6479\n",
            "Epoch 135/150\n",
            "82/82 [==============================] - 0s 4ms/step - loss: 0.3280 - accuracy: 0.8607 - val_loss: 0.8822 - val_accuracy: 0.6402\n",
            "Epoch 136/150\n",
            "82/82 [==============================] - 0s 4ms/step - loss: 0.3269 - accuracy: 0.8679 - val_loss: 0.9114 - val_accuracy: 0.6387\n",
            "Epoch 137/150\n",
            "82/82 [==============================] - 0s 4ms/step - loss: 0.3372 - accuracy: 0.8523 - val_loss: 0.9373 - val_accuracy: 0.6402\n",
            "Epoch 138/150\n",
            "82/82 [==============================] - 0s 4ms/step - loss: 0.3416 - accuracy: 0.8531 - val_loss: 0.8933 - val_accuracy: 0.6433\n",
            "Epoch 139/150\n",
            "82/82 [==============================] - 0s 4ms/step - loss: 0.3350 - accuracy: 0.8511 - val_loss: 0.8779 - val_accuracy: 0.6418\n",
            "Epoch 140/150\n",
            "82/82 [==============================] - 0s 4ms/step - loss: 0.3558 - accuracy: 0.8405 - val_loss: 0.8619 - val_accuracy: 0.6418\n",
            "Epoch 141/150\n",
            "82/82 [==============================] - 0s 5ms/step - loss: 0.3367 - accuracy: 0.8576 - val_loss: 0.8688 - val_accuracy: 0.6570\n",
            "Epoch 142/150\n",
            "82/82 [==============================] - 0s 4ms/step - loss: 0.3516 - accuracy: 0.8405 - val_loss: 0.8563 - val_accuracy: 0.6524\n",
            "Epoch 143/150\n",
            "82/82 [==============================] - 0s 4ms/step - loss: 0.3299 - accuracy: 0.8592 - val_loss: 0.9276 - val_accuracy: 0.6341\n",
            "Epoch 144/150\n",
            "82/82 [==============================] - 0s 4ms/step - loss: 0.3354 - accuracy: 0.8519 - val_loss: 0.9072 - val_accuracy: 0.6524\n",
            "Epoch 145/150\n",
            "82/82 [==============================] - 0s 4ms/step - loss: 0.3289 - accuracy: 0.8550 - val_loss: 0.9064 - val_accuracy: 0.6418\n",
            "Epoch 146/150\n",
            "82/82 [==============================] - 0s 4ms/step - loss: 0.3355 - accuracy: 0.8531 - val_loss: 0.9051 - val_accuracy: 0.6509\n",
            "Epoch 147/150\n",
            "82/82 [==============================] - 0s 4ms/step - loss: 0.3391 - accuracy: 0.8557 - val_loss: 0.8812 - val_accuracy: 0.6463\n",
            "Epoch 148/150\n",
            "82/82 [==============================] - 0s 5ms/step - loss: 0.3379 - accuracy: 0.8550 - val_loss: 0.9408 - val_accuracy: 0.6296\n",
            "Epoch 149/150\n",
            "82/82 [==============================] - 0s 4ms/step - loss: 0.3268 - accuracy: 0.8565 - val_loss: 0.9117 - val_accuracy: 0.6433\n",
            "Epoch 150/150\n",
            "82/82 [==============================] - 0s 4ms/step - loss: 0.3254 - accuracy: 0.8641 - val_loss: 0.9305 - val_accuracy: 0.6616\n"
          ]
        }
      ]
    },
    {
      "cell_type": "code",
      "source": [
        "#Evaluating the model\n",
        "\n",
        "eval_model=model.evaluate(X_train, y_train)\n",
        "eval_model"
      ],
      "metadata": {
        "colab": {
          "base_uri": "https://localhost:8080/"
        },
        "id": "c6xxziO_5IxR",
        "outputId": "4a92c03d-b1d0-49c1-a939-4b4dd6893ca1"
      },
      "id": "c6xxziO_5IxR",
      "execution_count": null,
      "outputs": [
        {
          "output_type": "stream",
          "name": "stdout",
          "text": [
            "82/82 [==============================] - 0s 2ms/step - loss: 0.2386 - accuracy: 0.8992\n"
          ]
        },
        {
          "output_type": "execute_result",
          "data": {
            "text/plain": [
              "[0.23857414722442627, 0.8992366194725037]"
            ]
          },
          "metadata": {},
          "execution_count": 128
        }
      ]
    },
    {
      "cell_type": "code",
      "source": [
        "# plotting the metrics\n",
        "fig = plt.figure()\n",
        "plt.subplot(2,1,1)\n",
        "plt.plot(history.history['accuracy'])\n",
        "plt.plot(history.history['val_accuracy'])\n",
        "plt.title('model accuracy')\n",
        "plt.ylabel('accuracy')\n",
        "plt.xlabel('epoch')\n",
        "plt.legend(['train', 'test'], loc='lower right')\n",
        "\n",
        "plt.subplot(2,1,2)\n",
        "plt.plot(history.history['loss'])\n",
        "plt.plot(history.history['val_loss'])\n",
        "plt.title('model loss')\n",
        "plt.ylabel('loss')\n",
        "plt.xlabel('epoch')\n",
        "plt.legend(['train', 'test'], loc='upper right')\n",
        "\n",
        "plt.tight_layout()"
      ],
      "metadata": {
        "id": "QgmKHGZ7HkKS",
        "outputId": "8eb8b2c9-625f-4891-bceb-12e4797c1c79",
        "colab": {
          "base_uri": "https://localhost:8080/",
          "height": 297
        }
      },
      "execution_count": null,
      "outputs": [
        {
          "output_type": "display_data",
          "data": {
            "text/plain": [
              "<Figure size 432x288 with 2 Axes>"
            ],
            "image/png": "[encoded data removed]"
          },
          "metadata": {}
        }
      ],
      "id": "QgmKHGZ7HkKS"
    },
    {
      "cell_type": "code",
      "source": [
        ""
      ],
      "metadata": {
        "id": "sW2Xo8Yl6QZ8"
      },
      "id": "sW2Xo8Yl6QZ8",
      "execution_count": null,
      "outputs": []
    }
  ],
  "metadata": {
    "kernelspec": {
      "display_name": "Python 3",
      "language": "python",
      "name": "python3"
    },
    "language_info": {
      "codemirror_mode": {
        "name": "ipython",
        "version": 3
      },
      "file_extension": ".py",
      "mimetype": "text/x-python",
      "name": "python",
      "nbconvert_exporter": "python",
      "pygments_lexer": "ipython3",
      "version": "3.7.12"
    },
    "papermill": {
      "default_parameters": {},
      "duration": 210.277444,
      "end_time": "2022-02-12T16:59:56.290248",
      "environment_variables": {},
      "exception": null,
      "input_path": "__notebook__.ipynb",
      "output_path": "__notebook__.ipynb",
      "parameters": {},
      "start_time": "2022-02-12T16:56:26.012804",
      "version": "2.3.3"
    },
    "colab": {
      "name": "Final Script.ipynb",
      "provenance": []
    },
    "accelerator": "GPU"
  },
  "nbformat": 4,
  "nbformat_minor": 5
}